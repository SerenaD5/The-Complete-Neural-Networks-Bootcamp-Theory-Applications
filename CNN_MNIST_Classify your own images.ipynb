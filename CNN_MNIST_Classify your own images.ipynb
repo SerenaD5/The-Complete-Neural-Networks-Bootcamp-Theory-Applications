{
  "cells": [
    {
      "cell_type": "code",
      "execution_count": 1,
      "metadata": {
        "id": "bKNI1EHXt9or"
      },
      "outputs": [],
      "source": [
        "import cv2\n",
        "import torch\n",
        "import torch.nn as nn\n",
        "import torchvision.transforms as transforms\n",
        "import torchvision.datasets as datasets\n",
        "# from torch.autograd import Variable\n",
        "import matplotlib.pyplot as plt\n",
        "from PIL import Image\n",
        "import numpy as np"
      ]
    },
    {
      "cell_type": "code",
      "execution_count": 2,
      "metadata": {
        "colab": {
          "base_uri": "https://localhost:8080/"
        },
        "id": "T18OUCcXt9ot",
        "outputId": "8616af03-76a7-41e4-ced9-f56a10e7cfba"
      },
      "outputs": [
        {
          "output_type": "stream",
          "name": "stdout",
          "text": [
            "Downloading http://yann.lecun.com/exdb/mnist/train-images-idx3-ubyte.gz\n",
            "Failed to download (trying next):\n",
            "<urlopen error [SSL: CERTIFICATE_VERIFY_FAILED] certificate verify failed: certificate has expired (_ssl.c:1007)>\n",
            "\n",
            "Downloading https://ossci-datasets.s3.amazonaws.com/mnist/train-images-idx3-ubyte.gz\n",
            "Downloading https://ossci-datasets.s3.amazonaws.com/mnist/train-images-idx3-ubyte.gz to ./data/MNIST/raw/train-images-idx3-ubyte.gz\n"
          ]
        },
        {
          "output_type": "stream",
          "name": "stderr",
          "text": [
            "100%|██████████| 9.91M/9.91M [00:00<00:00, 22.1MB/s]\n"
          ]
        },
        {
          "output_type": "stream",
          "name": "stdout",
          "text": [
            "Extracting ./data/MNIST/raw/train-images-idx3-ubyte.gz to ./data/MNIST/raw\n",
            "\n",
            "Downloading http://yann.lecun.com/exdb/mnist/train-labels-idx1-ubyte.gz\n",
            "Failed to download (trying next):\n",
            "<urlopen error [SSL: CERTIFICATE_VERIFY_FAILED] certificate verify failed: certificate has expired (_ssl.c:1007)>\n",
            "\n",
            "Downloading https://ossci-datasets.s3.amazonaws.com/mnist/train-labels-idx1-ubyte.gz\n",
            "Downloading https://ossci-datasets.s3.amazonaws.com/mnist/train-labels-idx1-ubyte.gz to ./data/MNIST/raw/train-labels-idx1-ubyte.gz\n"
          ]
        },
        {
          "output_type": "stream",
          "name": "stderr",
          "text": [
            "100%|██████████| 28.9k/28.9k [00:00<00:00, 632kB/s]\n"
          ]
        },
        {
          "output_type": "stream",
          "name": "stdout",
          "text": [
            "Extracting ./data/MNIST/raw/train-labels-idx1-ubyte.gz to ./data/MNIST/raw\n",
            "\n",
            "Downloading http://yann.lecun.com/exdb/mnist/t10k-images-idx3-ubyte.gz\n",
            "Failed to download (trying next):\n",
            "<urlopen error [SSL: CERTIFICATE_VERIFY_FAILED] certificate verify failed: certificate has expired (_ssl.c:1007)>\n",
            "\n",
            "Downloading https://ossci-datasets.s3.amazonaws.com/mnist/t10k-images-idx3-ubyte.gz\n",
            "Downloading https://ossci-datasets.s3.amazonaws.com/mnist/t10k-images-idx3-ubyte.gz to ./data/MNIST/raw/t10k-images-idx3-ubyte.gz\n"
          ]
        },
        {
          "output_type": "stream",
          "name": "stderr",
          "text": [
            "100%|██████████| 1.65M/1.65M [00:00<00:00, 5.51MB/s]\n"
          ]
        },
        {
          "output_type": "stream",
          "name": "stdout",
          "text": [
            "Extracting ./data/MNIST/raw/t10k-images-idx3-ubyte.gz to ./data/MNIST/raw\n",
            "\n",
            "Downloading http://yann.lecun.com/exdb/mnist/t10k-labels-idx1-ubyte.gz\n",
            "Failed to download (trying next):\n",
            "<urlopen error [SSL: CERTIFICATE_VERIFY_FAILED] certificate verify failed: certificate has expired (_ssl.c:1007)>\n",
            "\n",
            "Downloading https://ossci-datasets.s3.amazonaws.com/mnist/t10k-labels-idx1-ubyte.gz\n",
            "Downloading https://ossci-datasets.s3.amazonaws.com/mnist/t10k-labels-idx1-ubyte.gz to ./data/MNIST/raw/t10k-labels-idx1-ubyte.gz\n"
          ]
        },
        {
          "output_type": "stream",
          "name": "stderr",
          "text": [
            "100%|██████████| 4.54k/4.54k [00:00<00:00, 3.82MB/s]"
          ]
        },
        {
          "output_type": "stream",
          "name": "stdout",
          "text": [
            "Extracting ./data/MNIST/raw/t10k-labels-idx1-ubyte.gz to ./data/MNIST/raw\n",
            "\n"
          ]
        },
        {
          "output_type": "stream",
          "name": "stderr",
          "text": [
            "\n"
          ]
        }
      ],
      "source": [
        "# Specify the Mean and standard deviation of all the pixels in the MNIST dataset. They are precomputed\n",
        "mean_gray = 0.1307\n",
        "stddev_gray = 0.3081\n",
        "\n",
        "#Transform the images to tensors\n",
        "#Normalize a tensor image with mean and standard deviation. Given mean: (M1,...,Mn) and std: (S1,..,Sn)\n",
        "#for n channels, this transform will normalize each channel of the input torch.Tensor\n",
        "#i.e. input[channel] = (input[channel] - mean[channel]) / std[channel]\n",
        "\n",
        "transforms_ori = transforms.Compose([transforms.ToTensor(),\n",
        "                                transforms.Normalize((mean_gray,), (stddev_gray,))])\n",
        "\n",
        "transforms_photo = transforms.Compose([transforms.Resize((28,28)),\n",
        "                                       transforms.ToTensor(),\n",
        "                                       transforms.Normalize((mean_gray,), (stddev_gray,))])\n",
        "\n",
        "#Load our dataset\n",
        "train_dataset = datasets.MNIST(root = './data',\n",
        "                            train = True,\n",
        "                            transform = transforms_ori,\n",
        "                            download = True)\n",
        "\n",
        "test_dataset = datasets.MNIST(root = './data',\n",
        "                            train = False,\n",
        "                            transform = transforms_ori)"
      ]
    },
    {
      "cell_type": "code",
      "execution_count": 3,
      "metadata": {
        "colab": {
          "base_uri": "https://localhost:8080/",
          "height": 447
        },
        "id": "INfD88lBt9ot",
        "outputId": "cd0abe41-cfda-4a41-aa07-27d7f135b39e"
      },
      "outputs": [
        {
          "output_type": "execute_result",
          "data": {
            "text/plain": [
              "<matplotlib.image.AxesImage at 0x7d09f4e33520>"
            ]
          },
          "metadata": {},
          "execution_count": 3
        },
        {
          "output_type": "display_data",
          "data": {
            "text/plain": [
              "<Figure size 640x480 with 1 Axes>"
            ],
            "image/png": "[encoded data removed]"
          },
          "metadata": {}
        }
      ],
      "source": [
        "import matplotlib.pyplot as plt\n",
        "random_image = train_dataset[20][0].numpy() * stddev_gray + mean_gray\n",
        "plt.imshow(random_image.reshape(28, 28), cmap='gray')"
      ]
    },
    {
      "cell_type": "code",
      "execution_count": 4,
      "metadata": {
        "colab": {
          "base_uri": "https://localhost:8080/"
        },
        "id": "3LImN1DAt9ot",
        "outputId": "580617cf-81f0-49a4-9b2f-2de586790d01"
      },
      "outputs": [
        {
          "output_type": "stream",
          "name": "stdout",
          "text": [
            "4\n"
          ]
        }
      ],
      "source": [
        "print(train_dataset[20][1])   #Print the corresponding label for the image"
      ]
    },
    {
      "cell_type": "code",
      "execution_count": 5,
      "metadata": {
        "id": "svXKwOsVt9ot"
      },
      "outputs": [],
      "source": [
        "batch_size = 100\n",
        "epochs = 10"
      ]
    },
    {
      "cell_type": "code",
      "execution_count": 6,
      "metadata": {
        "id": "iKWOMIngt9ou"
      },
      "outputs": [],
      "source": [
        "#Make the dataset iterable\n",
        "train_load = torch.utils.data.DataLoader(dataset = train_dataset,\n",
        "                                         batch_size = batch_size,\n",
        "                                         shuffle = True)\n",
        "\n",
        "test_load = torch.utils.data.DataLoader(dataset = test_dataset,\n",
        "                                         batch_size = batch_size,\n",
        "                                         shuffle = False)"
      ]
    },
    {
      "cell_type": "code",
      "execution_count": 7,
      "metadata": {
        "colab": {
          "base_uri": "https://localhost:8080/"
        },
        "id": "v22SoSf9t9ou",
        "outputId": "129ee4db-f64e-4219-dd86-a6a9745f6b39"
      },
      "outputs": [
        {
          "output_type": "stream",
          "name": "stdout",
          "text": [
            "There are 60000 images in the training set\n",
            "There are 10000 images in the test set\n",
            "There are 600 batches in the train loader\n",
            "There are 100 batches in the testloader\n"
          ]
        }
      ],
      "source": [
        "print('There are {} images in the training set'.format(len(train_dataset)))\n",
        "print('There are {} images in the test set'.format(len(test_dataset)))\n",
        "print('There are {} batches in the train loader'.format(len(train_load)))\n",
        "print('There are {} batches in the testloader'.format(len(test_load)))"
      ]
    },
    {
      "cell_type": "code",
      "execution_count": 8,
      "metadata": {
        "id": "7iY732Iut9ou"
      },
      "outputs": [],
      "source": [
        "#Create the model class\n",
        "class CNN(nn.Module):\n",
        "    def __init__(self):\n",
        "        super(CNN,self).__init__()\n",
        "        #Same Padding = [(filter size - 1) / 2] (Same Padding--> input size = output size)\n",
        "        self.cnn1 = nn.Conv2d(in_channels=1, out_channels=8, kernel_size=3,stride=1, padding=1)\n",
        "        #The output size of each of the 8 feature maps is\n",
        "        #[(input_size - filter_size + 2(padding) / stride) +1] --> [(28-3+2(1)/1)+1] = 28 (padding type is same)\n",
        "        #Batch normalization\n",
        "        self.batchnorm1 = nn.BatchNorm2d(8)\n",
        "        #RELU\n",
        "        self.relu = nn.ReLU()\n",
        "        self.maxpool1 = nn.MaxPool2d(kernel_size=2)\n",
        "        #After max pooling, the output of each feature map is now 28/2 = 14\n",
        "        self.cnn2 = nn.Conv2d(in_channels=8, out_channels=32, kernel_size=5, stride=1, padding=2)\n",
        "        #Output size of each of the 32 feature maps remains 14\n",
        "        self.batchnorm2 = nn.BatchNorm2d(32)\n",
        "        self.maxpool2 = nn.MaxPool2d(kernel_size=2)\n",
        "        #After max pooling, the output of each feature map is 14/2 = 7\n",
        "        #Flatten the feature maps. You have 32 feature maps, each of them is of size 7x7 --> 32*7*7 = 1568\n",
        "        self.fc1 = nn.Linear(in_features=1568, out_features=600)\n",
        "        self.droput = nn.Dropout(p=0.5)\n",
        "        self.fc2 = nn.Linear(in_features=600, out_features=10)\n",
        "    def forward(self,x):\n",
        "        out = self.cnn1(x)\n",
        "        out = self.batchnorm1(out)\n",
        "        out = self.relu(out)\n",
        "        out = self.maxpool1(out)\n",
        "        out = self.cnn2(out)\n",
        "        out = self.batchnorm2(out)\n",
        "        out = self.relu(out)\n",
        "        out = self.maxpool2(out)\n",
        "        #Now we have to flatten the output. This is where we apply the feed forward neural network as learned before!\n",
        "        #It will take the shape (batch_size, 1568) = (100, 1568)\n",
        "        out = out.view(-1,1568)\n",
        "        #Then we forward through our fully connected layer\n",
        "        out = self.fc1(out)\n",
        "        out = self.relu(out)\n",
        "        out = self.droput(out)\n",
        "        out = self.fc2(out)\n",
        "        return out"
      ]
    },
    {
      "cell_type": "code",
      "execution_count": 9,
      "metadata": {
        "id": "jMU02PYIt9ou"
      },
      "outputs": [],
      "source": [
        "model = CNN()\n",
        "CUDA = torch.cuda.is_available()\n",
        "if CUDA:\n",
        "    model = model.cuda()\n",
        "loss_fn = nn.CrossEntropyLoss()\n",
        "optimizer = torch.optim.SGD(model.parameters(), lr = 0.01)"
      ]
    },
    {
      "cell_type": "code",
      "execution_count": 11,
      "metadata": {
        "colab": {
          "base_uri": "https://localhost:8080/"
        },
        "id": "5uKKNTcPt9ou",
        "outputId": "725bd346-da98-4c4a-a8ca-896933975d64"
      },
      "outputs": [
        {
          "output_type": "stream",
          "name": "stdout",
          "text": [
            "For one iteration, this is what happens:\n",
            "Input Shape: torch.Size([100, 1, 28, 28])\n",
            "Labels Shape: torch.Size([100])\n",
            "Outputs Shape torch.Size([100, 10])\n",
            "Predicted Shape torch.Size([100])\n",
            "Predicted Tensor:\n",
            "tensor([5, 2, 6, 9, 2, 5, 7, 7, 7, 8, 7, 2, 7, 2, 2, 6, 9, 7, 7, 8, 8, 7, 2, 5,\n",
            "        9, 6, 7, 5, 6, 3, 9, 7, 7, 6, 2, 8, 9, 0, 6, 5, 7, 7, 2, 6, 8, 1, 7, 5,\n",
            "        2, 2, 9, 3, 7, 2, 0, 6, 7, 7, 2, 7, 2, 7, 7, 6, 9, 8, 5, 7, 5, 2, 7, 7,\n",
            "        5, 5, 7, 2, 5, 6, 2, 5, 7, 9, 6, 7, 6, 8, 8, 7, 7, 0, 7, 7, 7, 6, 7, 3,\n",
            "        4, 6, 5, 3])\n",
            "Correct Predictions:  tensor(8)\n",
            "Correct Predictions: tensor(8)\n"
          ]
        }
      ],
      "source": [
        "#Understand what's happening\n",
        "iteration = 0\n",
        "correct_nodata = 0\n",
        "correct_data = 0\n",
        "for i,(inputs,labels) in enumerate (train_load):\n",
        "    if iteration==1:\n",
        "        break\n",
        "    # inputs = Variable(inputs)\n",
        "    # labels = Variable(labels)\n",
        "    if torch.cuda.is_available():\n",
        "        inputs = inputs.cuda()\n",
        "        labels = labels.cuda()\n",
        "    print(\"For one iteration, this is what happens:\")\n",
        "    print(\"Input Shape:\",inputs.shape)\n",
        "    print(\"Labels Shape:\",labels.shape)\n",
        "    output = model(inputs)\n",
        "    print(\"Outputs Shape\",output.shape)\n",
        "    _, predicted_nodata = torch.max(output, 1)\n",
        "    print(\"Predicted Shape\",predicted_nodata.shape)\n",
        "    print(\"Predicted Tensor:\")\n",
        "    print(predicted_nodata)\n",
        "    correct_nodata += (predicted_nodata == labels).sum()\n",
        "    print(\"Correct Predictions: \",correct_nodata)\n",
        "    _, predicted_data = torch.max(output.data, 1)\n",
        "    correct_data += (predicted_data == labels.data).sum()\n",
        "    print(\"Correct Predictions:\",correct_data)\n",
        "\n",
        "\n",
        "    iteration += 1"
      ]
    },
    {
      "cell_type": "code",
      "execution_count": 12,
      "metadata": {
        "colab": {
          "base_uri": "https://localhost:8080/"
        },
        "id": "CnGTKFitt9ov",
        "outputId": "f659ee74-a88f-47b7-b25b-32084bfdd890"
      },
      "outputs": [
        {
          "output_type": "stream",
          "name": "stdout",
          "text": [
            "Epoch 1/10, Training Loss: 0.451, Training Accuracy: 88.170, Testing Loss: 0.144, Testing Acc: 95.980\n",
            "Epoch 2/10, Training Loss: 0.155, Training Accuracy: 95.528, Testing Loss: 0.096, Testing Acc: 97.310\n",
            "Epoch 3/10, Training Loss: 0.115, Training Accuracy: 96.757, Testing Loss: 0.075, Testing Acc: 97.800\n",
            "Epoch 4/10, Training Loss: 0.093, Training Accuracy: 97.258, Testing Loss: 0.063, Testing Acc: 98.140\n",
            "Epoch 5/10, Training Loss: 0.080, Training Accuracy: 97.645, Testing Loss: 0.055, Testing Acc: 98.370\n",
            "Epoch 6/10, Training Loss: 0.071, Training Accuracy: 97.950, Testing Loss: 0.051, Testing Acc: 98.430\n",
            "Epoch 7/10, Training Loss: 0.064, Training Accuracy: 98.135, Testing Loss: 0.046, Testing Acc: 98.570\n",
            "Epoch 8/10, Training Loss: 0.057, Training Accuracy: 98.298, Testing Loss: 0.042, Testing Acc: 98.700\n",
            "Epoch 9/10, Training Loss: 0.053, Training Accuracy: 98.410, Testing Loss: 0.040, Testing Acc: 98.680\n",
            "Epoch 10/10, Training Loss: 0.051, Training Accuracy: 98.520, Testing Loss: 0.039, Testing Acc: 98.780\n"
          ]
        }
      ],
      "source": [
        "#Training the CNN\n",
        "num_epochs = 10\n",
        "\n",
        "#Define the lists to store the results of loss and accuracy\n",
        "train_loss = []\n",
        "test_loss = []\n",
        "train_accuracy = []\n",
        "test_accuracy = []\n",
        "\n",
        "#Training\n",
        "for epoch in range(num_epochs):\n",
        "    #Reset these below variables to 0 at the begining of every epoch\n",
        "    correct = 0\n",
        "    iterations = 0\n",
        "    iter_loss = 0.0\n",
        "\n",
        "    model.train()                   # Put the network into training mode\n",
        "\n",
        "    for i, (inputs, labels) in enumerate(train_load):\n",
        "\n",
        "        # # Convert torch tensor to Variable\n",
        "        # inputs = Variable(inputs)\n",
        "        # labels = Variable(labels)\n",
        "\n",
        "        # If we have GPU, shift the data to GPU\n",
        "        CUDA = torch.cuda.is_available()\n",
        "        if CUDA:\n",
        "            inputs = inputs.cuda()\n",
        "            labels = labels.cuda()\n",
        "\n",
        "        optimizer.zero_grad()            # Clear off the gradient in (w = w - gradient)\n",
        "        outputs = model(inputs)\n",
        "        loss = loss_fn(outputs, labels)\n",
        "        iter_loss += loss.item()       # Accumulate the loss\n",
        "        loss.backward()                 # Backpropagation\n",
        "        optimizer.step()                # Update the weights\n",
        "\n",
        "        # Record the correct predictions for training data\n",
        "        _, predicted = torch.max(outputs, 1)\n",
        "        correct += (predicted == labels).sum()\n",
        "        iterations += 1\n",
        "\n",
        "    # Record the training loss\n",
        "    train_loss.append(iter_loss/iterations)\n",
        "    # Record the training accuracy\n",
        "    train_accuracy.append((100 * correct / len(train_dataset)))\n",
        "\n",
        "    #Testing\n",
        "    testing_loss  = 0.0\n",
        "    correct = 0\n",
        "    iterations = 0\n",
        "\n",
        "    model.eval()                    # Put the network into evaluation mode\n",
        "\n",
        "    for i, (inputs, labels) in enumerate(test_load):\n",
        "\n",
        "        # # Convert torch tensor to Variable\n",
        "        # inputs = Variable(inputs)\n",
        "        # labels = Variable(labels)\n",
        "\n",
        "        CUDA = torch.cuda.is_available()\n",
        "        if CUDA:\n",
        "            inputs = inputs.cuda()\n",
        "            labels = labels.cuda()\n",
        "\n",
        "        outputs = model(inputs)\n",
        "        loss = loss_fn(outputs, labels) # Calculate the loss\n",
        "        testing_loss  += loss.item()\n",
        "        # Record the correct predictions for training data\n",
        "        _, predicted = torch.max(outputs, 1)\n",
        "        correct += (predicted == labels).sum()\n",
        "\n",
        "        iterations += 1\n",
        "\n",
        "    # Record the Testing loss\n",
        "    test_loss.append(testing_loss /iterations)\n",
        "    # Record the Testing accuracy\n",
        "    test_accuracy.append((100 * correct / len(test_dataset)))\n",
        "\n",
        "    print ('Epoch {}/{}, Training Loss: {:.3f}, Training Accuracy: {:.3f}, Testing Loss: {:.3f}, Testing Acc: {:.3f}'\n",
        "           .format(epoch+1, num_epochs, train_loss[-1], train_accuracy[-1],\n",
        "             test_loss[-1], test_accuracy[-1]))"
      ]
    },
    {
      "cell_type": "code",
      "execution_count": 13,
      "metadata": {
        "id": "30r7c5KNt9ov"
      },
      "outputs": [],
      "source": [
        "#Run this if you want to save the model\n",
        "torch.save(model.state_dict(),'CNN_MNIST.pth')"
      ]
    },
    {
      "cell_type": "markdown",
      "source": [
        "```python\n",
        "# 如果你想保存模型，请运行此代码\n",
        "torch.save(model.state_dict(), 'CNN_MNIST.pth')\n",
        "\n",
        "# 如果你想加载模型，请运行此代码\n",
        "model.load_state_dict(torch.load('CNN_MNIST.pth'))\n",
        "```\n",
        "\n",
        "### 代码逐行解释：\n",
        "1. `torch.save(model.state_dict(), 'CNN_MNIST.pth')`：\n",
        "   - **功能**：保存模型的状态字典（包含模型的所有参数）。\n",
        "   - **参数**：\n",
        "     - `model.state_dict()`：模型的状态字典。\n",
        "     - `'CNN_MNIST.pth'`：保存文件的路径和文件名。\n",
        "  - **保存模型**：\n",
        "    - `torch.save(model.state_dict(), 'CNN_MNIST.pth')`：将模型的状态字典保存到文件`CNN_MNIST.pth`中。状态字典包含了模型的所有参数（权重和偏置），可以用于之后的模型恢复。\n",
        "\n",
        "2. `model.load_state_dict(torch.load('CNN_MNIST.pth'))`：\n",
        "   - **功能**：加载保存的模型状态字典。\n",
        "   - **参数**：\n",
        "     - `torch.load('CNN_MNIST.pth')`：加载保存的状态字典。\n",
        "     - `model.load_state_dict(...)`：将加载的状态字典应用到模型中。\n",
        "  - **加载模型**：\n",
        "    - `model.load_state_dict(torch.load('CNN_MNIST.pth'))`：从文件`CNN_MNIST.pth`中加载模型的状态字典，并将其应用到当前模型实例中。这一步可以恢复之前保存的模型参数，使得模型可以继续进行训练或进行推理。"
      ],
      "metadata": {
        "id": "Guy6gzuKcvdK"
      }
    },
    {
      "cell_type": "code",
      "source": [
        "test_loss"
      ],
      "metadata": {
        "colab": {
          "base_uri": "https://localhost:8080/"
        },
        "id": "LHzNfpBw10W2",
        "outputId": "aec384cd-2e0c-492c-b19a-f1cfa680d593"
      },
      "execution_count": 14,
      "outputs": [
        {
          "output_type": "execute_result",
          "data": {
            "text/plain": [
              "[0.14364497513510288,\n",
              " 0.09579364559147507,\n",
              " 0.07528841709252447,\n",
              " 0.06316123359836638,\n",
              " 0.054718225655378774,\n",
              " 0.05066403197706677,\n",
              " 0.046440044816117736,\n",
              " 0.04201344131026417,\n",
              " 0.03968645030923654,\n",
              " 0.0391327102977084]"
            ]
          },
          "metadata": {},
          "execution_count": 14
        }
      ]
    },
    {
      "cell_type": "code",
      "source": [
        "test_accuracy"
      ],
      "metadata": {
        "colab": {
          "base_uri": "https://localhost:8080/"
        },
        "id": "b6xCvhUZ1d-T",
        "outputId": "0b4cfaa7-129b-461b-fde8-8f52ae6bb5c6"
      },
      "execution_count": 15,
      "outputs": [
        {
          "output_type": "execute_result",
          "data": {
            "text/plain": [
              "[tensor(95.9800),\n",
              " tensor(97.3100),\n",
              " tensor(97.8000),\n",
              " tensor(98.1400),\n",
              " tensor(98.3700),\n",
              " tensor(98.4300),\n",
              " tensor(98.5700),\n",
              " tensor(98.7000),\n",
              " tensor(98.6800),\n",
              " tensor(98.7800)]"
            ]
          },
          "metadata": {},
          "execution_count": 15
        }
      ]
    },
    {
      "cell_type": "code",
      "execution_count": 16,
      "metadata": {
        "colab": {
          "base_uri": "https://localhost:8080/",
          "height": 830
        },
        "id": "gEUoqsT7t9ov",
        "outputId": "63d0df53-b0b6-4f80-c9d9-13b48b6ac0a3"
      },
      "outputs": [
        {
          "output_type": "display_data",
          "data": {
            "text/plain": [
              "<Figure size 1000x1000 with 1 Axes>"
            ],
            "image/png": "[encoded data removed]"
          },
          "metadata": {}
        }
      ],
      "source": [
        "# Loss\n",
        "f = plt.figure(figsize=(10, 10))\n",
        "plt.plot(train_loss, label='Training Loss')\n",
        "plt.plot(test_loss, label='Testing Loss')\n",
        "plt.legend()\n",
        "plt.show()"
      ]
    },
    {
      "cell_type": "code",
      "execution_count": 17,
      "metadata": {
        "colab": {
          "base_uri": "https://localhost:8080/",
          "height": 830
        },
        "id": "R17pc5P3t9ov",
        "outputId": "58d61a39-f682-48ae-9a51-865227ce52a7"
      },
      "outputs": [
        {
          "output_type": "display_data",
          "data": {
            "text/plain": [
              "<Figure size 1000x1000 with 1 Axes>"
            ],
            "image/png": "[encoded data removed]"
          },
          "metadata": {}
        }
      ],
      "source": [
        "# Accuracy\n",
        "f = plt.figure(figsize=(10, 10))\n",
        "plt.plot(train_accuracy, label='Training Accuracy')\n",
        "plt.plot(test_accuracy, label='Testing Accuracy')\n",
        "plt.legend()\n",
        "plt.show()"
      ]
    },
    {
      "cell_type": "code",
      "execution_count": 18,
      "metadata": {
        "colab": {
          "base_uri": "https://localhost:8080/"
        },
        "id": "3prhRZbWt9ov",
        "outputId": "ade1b95b-70be-40a5-bd3a-43e2144fe42f"
      },
      "outputs": [
        {
          "output_type": "stream",
          "name": "stderr",
          "text": [
            "<ipython-input-18-0c95fb8960a2>:2: FutureWarning: You are using `torch.load` with `weights_only=False` (the current default value), which uses the default pickle module implicitly. It is possible to construct malicious pickle data which will execute arbitrary code during unpickling (See https://github.com/pytorch/pytorch/blob/main/SECURITY.md#untrusted-models for more details). In a future release, the default value for `weights_only` will be flipped to `True`. This limits the functions that could be executed during unpickling. Arbitrary objects will no longer be allowed to be loaded via this mode unless they are explicitly allowlisted by the user via `torch.serialization.add_safe_globals`. We recommend you start setting `weights_only=True` for any use case where you don't have full control of the loaded file. Please open an issue on GitHub for any issues related to this experimental feature.\n",
            "  model.load_state_dict(torch.load('CNN_MNIST.pth'))\n"
          ]
        },
        {
          "output_type": "execute_result",
          "data": {
            "text/plain": [
              "<All keys matched successfully>"
            ]
          },
          "metadata": {},
          "execution_count": 18
        }
      ],
      "source": [
        "#Run this if you want to load the model\n",
        "model.load_state_dict(torch.load('CNN_MNIST.pth'))"
      ]
    },
    {
      "cell_type": "code",
      "execution_count": 19,
      "metadata": {
        "id": "HU0WJ9_Mt9ov"
      },
      "outputs": [],
      "source": [
        "from google.colab.patches import cv2_imshow\n",
        "#Predict your own image\n",
        "def predict(img_name,model):\n",
        "    image = cv2.imread(img_name,0)   #Read the image\n",
        "    ret, thresholded = cv2.threshold(image,127,255,cv2.THRESH_BINARY)   #Threshold the image\n",
        "    img = 255-thresholded           #Apply image negative\n",
        "    # cv2.imshow('Original',img)      #Display the processed image\n",
        "    cv2_imshow(img) # change to this one due to cv2.imshow cannot work well in google clob\n",
        "    # cv2.waitKey(0)\n",
        "    # cv2.destroyAllWindows()\n",
        "    img = Image.fromarray(img)      #Convert the image to an array\n",
        "    img = transforms_photo(img)     #Apply the transformations\n",
        "    img = img.view(1,1,28,28)       #Add batch size\n",
        "    # img = Variable(img)             #Wrap the tensor to a variable 在较新的 PyTorch 版本中，Variable 类已经被弃用，直接使用张量即可。因此，img = Variable(img) 这一步是不必要的，可以直接使用张量进行前向传播和其他操作。\n",
        "\n",
        "    model.eval()\n",
        "\n",
        "    if torch.cuda.is_available():\n",
        "        model = model.cuda()\n",
        "        img = img.cuda()\n",
        "\n",
        "    output = model(img)\n",
        "    print(output)\n",
        "    print(output.data)\n",
        "    _, predicted = torch.max(output,1)\n",
        "    return  predicted.item()"
      ]
    },
    {
      "cell_type": "markdown",
      "source": [
        "### 代码逐行解释：\n",
        "1. `from google.colab.patches import cv2_imshow`：导入`cv2_imshow`函数，用于在Google Colab中显示图像。\n",
        "2. `import cv2`：导入OpenCV库，用于图像处理。\n",
        "3. `from PIL import Image`：导入PIL库，用于图像转换。\n",
        "4. `import torch`：导入PyTorch库。\n",
        "5. `from torch.autograd import Variable`：导入`Variable`类，用于包装张量。\n",
        "\n",
        "6. `def predict(img_name, model):`：定义预测函数，接受图像文件名和模型作为参数。\n",
        "7. `image = cv2.imread(img_name, 0)`：读取图像，`0`表示以灰度图像读取。\n",
        "8. `ret, thresholded = cv2.threshold(image, 127, 255, cv2.THRESH_BINARY)`：对图像进行二值化处理，阈值为127，最大值为255。\n",
        "9. `img = 255 - thresholded`：应用图像负片效果。\n",
        "10. `cv2_imshow(img)`：显示处理后的图像。\n",
        "11. `cv2.waitKey(0)`：等待按键事件。\n",
        "12. `cv2.destroyAllWindows()`：销毁所有窗口。\n",
        "13. `img = Image.fromarray(img)`：将图像转换为数组。\n",
        "14. `img = transforms_photo(img)`：应用预处理变换（假设`transforms_photo`已经定义）。\n",
        "15. `img = img.view(1, 1, 28, 28)`：添加批次大小，调整图像形状为`[1, 1, 28, 28]`。\n",
        "16. `img = Variable(img)`：将张量包装为变量。\n",
        "17. `model.eval()`：将模型置于评估模式。\n",
        "18. `if torch.cuda.is_available():`：如果有可用的CUDA设备：\n",
        "    - `model = model.cuda()`：将模型移动到GPU。\n",
        "    - `img = img.cuda()`：将图像移动到GPU。\n",
        "19. `output = model(img)`：通过模型进行前向传播，获取输出。\n",
        "20. `print(output)`：打印输出。\n",
        "21. `print(output.data)`：打印输出数据。\n",
        "22. `_, predicted = torch.max(output, 1)`：获取预测结果，`torch.max`返回每行的最大值及其索引，这里我们只需要索引（即预测的类别）。\n",
        "23. `return predicted.item()`：返回预测结果。\n",
        "\n",
        "### 语法检查：\n",
        "代码语法正确，但需要确保导入了必要的库，并且预处理变换`transforms_photo`已经定义。\n",
        "\n",
        "### 代码优化建议：\n",
        "1. 确保导入了必要的库。\n",
        "2. 可以添加注释说明预处理变换`transforms_photo`的定义。\n"
      ],
      "metadata": {
        "id": "Xga12vuObNUu"
      }
    },
    {
      "cell_type": "code",
      "execution_count": 20,
      "metadata": {
        "colab": {
          "base_uri": "https://localhost:8080/",
          "height": 294
        },
        "id": "HBJK1Xaat9ow",
        "outputId": "f8a2d864-9544-4073-dab4-e36f8be38c43"
      },
      "outputs": [
        {
          "output_type": "display_data",
          "data": {
            "text/plain": [
              "<PIL.Image.Image image mode=L size=154x190>"
            ],
            "image/png": "[encoded data removed]",
            "image/jpeg": "[encoded data removed]"
          },
          "metadata": {}
        },
        {
          "output_type": "stream",
          "name": "stdout",
          "text": [
            "tensor([[-5.0917, -0.1535,  2.2371,  9.1931, -2.8711,  0.9719, -4.5167,  0.7383,\n",
            "         -1.0631,  1.9547]], grad_fn=<AddmmBackward0>)\n",
            "tensor([[-5.0917, -0.1535,  2.2371,  9.1931, -2.8711,  0.9719, -4.5167,  0.7383,\n",
            "         -1.0631,  1.9547]])\n",
            "The Predicted Label is 3\n"
          ]
        }
      ],
      "source": [
        "pred = predict('3.jpg', model)\n",
        "print(\"The Predicted Label is {}\".format(pred))"
      ]
    },
    {
      "cell_type": "code",
      "source": [],
      "metadata": {
        "id": "hU4jYj812Ec-"
      },
      "execution_count": null,
      "outputs": []
    }
  ],
  "metadata": {
    "kernelspec": {
      "display_name": "Python 3",
      "language": "python",
      "name": "python3"
    },
    "language_info": {
      "codemirror_mode": {
        "name": "ipython",
        "version": 3
      },
      "file_extension": ".py",
      "mimetype": "text/x-python",
      "name": "python",
      "nbconvert_exporter": "python",
      "pygments_lexer": "ipython3",
      "version": "3.6.5"
    },
    "colab": {
      "provenance": []
    }
  },
  "nbformat": 4,
  "nbformat_minor": 0
}