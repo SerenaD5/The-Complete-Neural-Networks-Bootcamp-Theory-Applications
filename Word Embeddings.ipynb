{
  "cells": [
    {
      "cell_type": "markdown",
      "metadata": {
        "id": "28dZdnGzL5gP"
      },
      "source": [
        "## Word Embeddings"
      ]
    },
    {
      "cell_type": "code",
      "execution_count": 1,
      "metadata": {
        "id": "sB_yxT4aL5gQ"
      },
      "outputs": [],
      "source": [
        "import torch\n",
        "import torch.nn as nn\n",
        "import torch.nn.functional as F\n",
        "import torch.optim as optim"
      ]
    },
    {
      "cell_type": "code",
      "execution_count": 2,
      "metadata": {
        "id": "DAAkm1rxL5gR",
        "outputId": "df86a2e6-dc57-45a5-d400-630a728133f4",
        "colab": {
          "base_uri": "https://localhost:8080/"
        }
      },
      "outputs": [
        {
          "output_type": "stream",
          "name": "stdout",
          "text": [
            "tensor([1])\n"
          ]
        }
      ],
      "source": [
        "#The indices of the words represent the values in the lookup table\n",
        "word_to_idx = {\"I\": 0, \"love\": 1, \"eating\":2, \"and\":3, \"sleeping\":4}\n",
        "embeddings = nn.Embedding(5, 7)    # 5 words in vocab, embedding size is 7\n",
        "word_index = torch.tensor([word_to_idx[\"love\"]])\n",
        "print(word_index)"
      ]
    },
    {
      "cell_type": "code",
      "execution_count": 3,
      "metadata": {
        "id": "85HhC1S4L5gS",
        "outputId": "af9ce1c0-088c-4174-892e-4fd1466ab82b",
        "colab": {
          "base_uri": "https://localhost:8080/"
        }
      },
      "outputs": [
        {
          "output_type": "stream",
          "name": "stdout",
          "text": [
            "tensor([[-0.8540,  1.5233, -1.0239, -1.1388, -0.0016, -0.8607, -0.2642]],\n",
            "       grad_fn=<EmbeddingBackward0>)\n",
            "torch.Size([1, 7])\n"
          ]
        }
      ],
      "source": [
        "love = embeddings(word_index)\n",
        "print(love)\n",
        "print(love.shape)"
      ]
    },
    {
      "cell_type": "code",
      "execution_count": 4,
      "metadata": {
        "id": "uhDGo7cDL5gS",
        "outputId": "3dd2a398-2e5d-489c-eb4d-c1e612c13fe1",
        "colab": {
          "base_uri": "https://localhost:8080/"
        }
      },
      "outputs": [
        {
          "output_type": "stream",
          "name": "stdout",
          "text": [
            "tensor([0, 1, 2, 3, 4])\n",
            "tensor([[ 1.2555e+00, -1.5690e+00,  6.0701e-01,  1.2811e+00,  3.0316e-01,\n",
            "          1.2836e+00,  2.4289e-01],\n",
            "        [-8.5397e-01,  1.5233e+00, -1.0239e+00, -1.1388e+00, -1.6443e-03,\n",
            "         -8.6073e-01, -2.6416e-01],\n",
            "        [-5.4758e-01, -7.5587e-01, -2.8377e-01, -8.0554e-01, -1.0463e+00,\n",
            "         -3.9389e-01, -2.8749e-01],\n",
            "        [ 2.8509e-01, -8.9369e-01,  4.8759e-01, -3.3821e-02,  2.2692e+00,\n",
            "          2.0623e+00, -5.0913e-02],\n",
            "        [-4.0016e-01,  6.7093e-01, -6.9782e-01, -5.2599e-01, -6.5403e-01,\n",
            "          5.5537e-01,  7.3809e-01]], grad_fn=<EmbeddingBackward0>)\n",
            "torch.Size([5, 7])\n"
          ]
        }
      ],
      "source": [
        "all_ind = torch.tensor([w for w in range(5)], dtype = torch.long)\n",
        "all_words = embeddings(all_ind)\n",
        "print(all_ind)\n",
        "print(all_words)\n",
        "print(all_words.shape)"
      ]
    },
    {
      "cell_type": "markdown",
      "metadata": {
        "id": "vzuLlWouL5gS"
      },
      "source": [
        "## Exercise: N-Gram Skip Model\n",
        "### Given a sequence of words, we want to predict the ith word of the sequence: P(w(i)|w(i-1), w(i-2), .....)\n",
        "#### Source: https://pytorch.org/tutorials/beginner/nlp/word_embeddings_tutorial.html#an-example-n-gram-language-modeling  \n"
      ]
    },
    {
      "cell_type": "code",
      "source": [
        "CONTEXT_SIZE = 2\n",
        "EMBEDDING_DIM = 10\n",
        "# We will use Shakespeare Sonnet 2\n",
        "test_sentence = \"\"\"When forty winters shall besiege thy brow,\n",
        "And dig deep trenches in thy beauty's field,\n",
        "Thy youth's proud livery so gazed on now,\n",
        "Will be a totter'd weed of small worth held:\n",
        "Then being asked, where all thy beauty lies,\n",
        "Where all the treasure of thy lusty days;\n",
        "To say, within thine own deep sunken eyes,\n",
        "Were an all-eating shame, and thriftless praise.\n",
        "How much more praise deserv'd thy beauty's use,\n",
        "If thou couldst answer 'This fair child of mine\n",
        "Shall sum my count, and make my old excuse,'\n",
        "Proving his beauty by succession thine!\n",
        "This were to be new made when thou art old,\n",
        "And see thy blood warm when thou feel'st it cold.\"\"\".split()\n",
        "# we should tokenize the input, but we will ignore that for now\n",
        "# build a list of tuples.\n",
        "# Each tuple is ([ word_i-CONTEXT_SIZE, ..., word_i-1 ], target word)\n",
        "ngrams = [\n",
        "    (\n",
        "        [test_sentence[i - j - 1] for j in range(CONTEXT_SIZE)],\n",
        "        test_sentence[i]\n",
        "    )\n",
        "    for i in range(CONTEXT_SIZE, len(test_sentence))\n",
        "]\n",
        "# Print the first 3, just so you can see what they look like.\n",
        "print(ngrams[:3])\n",
        "\n",
        "vocab = set(test_sentence)\n",
        "word_to_ix = {word: i for i, word in enumerate(vocab)}\n",
        "\n",
        "\n",
        "class NGramLanguageModeler(nn.Module):\n",
        "\n",
        "    def __init__(self, vocab_size, embedding_dim, context_size):\n",
        "        super(NGramLanguageModeler, self).__init__()\n",
        "        self.embeddings = nn.Embedding(vocab_size, embedding_dim)\n",
        "        self.linear1 = nn.Linear(context_size * embedding_dim, 128)\n",
        "        self.linear2 = nn.Linear(128, vocab_size)\n",
        "\n",
        "    def forward(self, inputs):\n",
        "        embeds = self.embeddings(inputs).view((1, -1))\n",
        "        out = F.relu(self.linear1(embeds))\n",
        "        out = self.linear2(out)\n",
        "        log_probs = F.log_softmax(out, dim=1)\n",
        "        return log_probs\n",
        "\n",
        "\n",
        "losses = []\n",
        "loss_function = nn.NLLLoss()\n",
        "model = NGramLanguageModeler(len(vocab), EMBEDDING_DIM, CONTEXT_SIZE)\n",
        "optimizer = optim.SGD(model.parameters(), lr=0.001)\n",
        "\n",
        "for epoch in range(10):\n",
        "    total_loss = 0\n",
        "    for context, target in ngrams:\n",
        "\n",
        "        # Step 1. Prepare the inputs to be passed to the model (i.e, turn the words\n",
        "        # into integer indices and wrap them in tensors)\n",
        "        context_idxs = torch.tensor([word_to_ix[w] for w in context], dtype=torch.long)\n",
        "\n",
        "        # Step 2. Recall that torch *accumulates* gradients. Before passing in a\n",
        "        # new instance, you need to zero out the gradients from the old\n",
        "        # instance\n",
        "        model.zero_grad()\n",
        "\n",
        "        # Step 3. Run the forward pass, getting log probabilities over next\n",
        "        # words\n",
        "        log_probs = model(context_idxs)\n",
        "\n",
        "        # Step 4. Compute your loss function. (Again, Torch wants the target\n",
        "        # word wrapped in a tensor)\n",
        "        loss = loss_function(log_probs, torch.tensor([word_to_ix[target]], dtype=torch.long))\n",
        "\n",
        "        # Step 5. Do the backward pass and update the gradient\n",
        "        loss.backward()\n",
        "        optimizer.step()\n",
        "\n",
        "        # Get the Python number from a 1-element Tensor by calling tensor.item()\n",
        "        total_loss += loss.item()\n",
        "    losses.append(total_loss)\n",
        "print(losses)  # The loss decreased every iteration over the training data!\n",
        "\n",
        "# To get the embedding of a particular word, e.g. \"beauty\"\n",
        "print(model.embeddings.weight[word_to_ix[\"beauty\"]])"
      ],
      "metadata": {
        "id": "L2LF_LPrM9uD",
        "outputId": "1f10b320-c301-4e1c-e8eb-838e1810cb3c",
        "colab": {
          "base_uri": "https://localhost:8080/"
        }
      },
      "execution_count": 5,
      "outputs": [
        {
          "output_type": "stream",
          "name": "stdout",
          "text": [
            "[(['forty', 'When'], 'winters'), (['winters', 'forty'], 'shall'), (['shall', 'winters'], 'besiege')]\n",
            "[519.1281599998474, 516.493239402771, 513.8753712177277, 511.27360558509827, 508.6874017715454, 506.11615467071533, 503.55976581573486, 501.0175971984863, 498.48900747299194, 495.9734330177307]\n",
            "tensor([-0.8846, -0.1527,  1.4066, -0.6703,  0.8545, -3.7965,  1.0284, -0.0567,\n",
            "        -0.2338, -0.7578], grad_fn=<SelectBackward0>)\n"
          ]
        }
      ]
    }
  ],
  "metadata": {
    "kernelspec": {
      "display_name": "Python 3",
      "language": "python",
      "name": "python3"
    },
    "language_info": {
      "codemirror_mode": {
        "name": "ipython",
        "version": 3
      },
      "file_extension": ".py",
      "mimetype": "text/x-python",
      "name": "python",
      "nbconvert_exporter": "python",
      "pygments_lexer": "ipython3",
      "version": "3.6.5"
    },
    "colab": {
      "provenance": []
    }
  },
  "nbformat": 4,
  "nbformat_minor": 0
}