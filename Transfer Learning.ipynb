{
  "cells": [
    {
      "cell_type": "markdown",
      "metadata": {
        "id": "JmoIrkXyqpHX"
      },
      "source": [
        "#### Note: This is a simplified and more explainable version from: https://pytorch.org/tutorials/beginner/transfer_learning_tutorial.html"
      ]
    },
    {
      "cell_type": "code",
      "execution_count": null,
      "metadata": {
        "id": "RyngSkXyqpHd"
      },
      "outputs": [],
      "source": [
        "import torch\n",
        "import torch.nn as nn\n",
        "import torch.optim as optim\n",
        "from torch.optim import lr_scheduler\n",
        "import torchvision\n",
        "from torch.autograd import Variable\n",
        "from torchvision import datasets, models, transforms\n",
        "import os\n",
        "import numpy as np"
      ]
    },
    {
      "cell_type": "code",
      "execution_count": null,
      "metadata": {
        "id": "9ZJwjbuOqpHf"
      },
      "outputs": [],
      "source": [
        "# Data augmentation and normalization for training\n",
        "# Just normalization for validation\n",
        "#class torchvision.transforms.RandomResizedCrop(size, scale=(0.08, 1.0), ratio=(0.75, 1.3333333333333333), interpolation=2)\n",
        "#transforms.RandomResizedCrop(224) --> A crop of random size (default: of 0.08 to 1.0) of the original size and a\n",
        "#random aspect ratio (default: of 3/4 to 4/3) of the original aspect ratio is made.\n",
        "#This crop is finally resized to given size (224 in this case).\n",
        "#transforms.CenterCrop(224)--> Crops the image at the center. 224 is the Desired output size of the crop.\n",
        "#class torchvision.transforms.Normalize(mean, std)\n",
        "#Normalize a tensor image with mean and standard deviation. Given mean: (M1,...,Mn) and std: (S1,..,Sn) for n channels,\n",
        "#this transform will normalize each channel of the input torch.Tensor i.e.\n",
        "#input[channel] = (input[channel] - mean[channel]) / std[channel]\n",
        "#Parameters:     mean (sequence) – Sequence of means for each channel.\n",
        "#                std (sequence) – Sequence of standard deviations for each channel.\n",
        "data_transforms = {\n",
        "    'train': transforms.Compose([\n",
        "        transforms.RandomResizedCrop(224),\n",
        "        transforms.RandomHorizontalFlip(),\n",
        "        transforms.ToTensor(),\n",
        "        transforms.Normalize([0.485, 0.456, 0.406], [0.229, 0.224, 0.225])\n",
        "    ]),\n",
        "    'val': transforms.Compose([\n",
        "        transforms.Resize(256),\n",
        "        transforms.CenterCrop(224),\n",
        "        transforms.ToTensor(),\n",
        "        transforms.Normalize([0.485, 0.456, 0.406], [0.229, 0.224, 0.225])\n",
        "    ]),\n",
        "}"
      ]
    },
    {
      "cell_type": "markdown",
      "source": [
        "这段代码定义了一个名为 `data_transforms` 的字典，其中包含了两个键 `'train'` 和 `'val'`，分别对应训练集和验证集的数据预处理操作。以下是对每一行代码的解释：\n",
        "\n",
        "1. `data_transforms = {`：定义一个字典 `data_transforms`。\n",
        "2. `'train': transforms.Compose([`：为训练集定义一系列的图像预处理操作，使用 `transforms.Compose` 将多个操作组合在一起。\n",
        "3. `transforms.RandomResizedCrop(224),`：随机裁剪图像并调整到 224x224 的大小。\n",
        "4. `transforms.RandomHorizontalFlip(),`：随机水平翻转图像。\n",
        "5. `transforms.ToTensor(),`：将图像转换为 PyTorch 的张量格式。\n",
        "6. `transforms.Normalize([0.485, 0.456, 0.406], [0.229, 0.224, 0.225])`：使用给定的均值和标准差对图像进行归一化。\n",
        "7. `]),`：结束训练集的预处理操作定义。\n",
        "8. `'val': transforms.Compose([`：为验证集定义一系列的图像预处理操作，使用 `transforms.Compose` 将多个操作组合在一起。\n",
        "9. `transforms.Resize(256),`：将图像调整到 256 的大小。\n",
        "10. `transforms.CenterCrop(224),`：从图像中心裁剪出 224x224 的大小。\n",
        "11. `transforms.ToTensor(),`：将图像转换为 PyTorch 的张量格式。\n",
        "12. `transforms.Normalize([0.485, 0.456, 0.406], [0.229, 0.224, 0.225])`：使用给定的均值和标准差对图像进行归一化。\n",
        "13. `])`：结束验证集的预处理操作定义。\n",
        "14. `}`：结束字典定义。\n"
      ],
      "metadata": {
        "id": "gEnrgWhrt8FX"
      }
    },
    {
      "cell_type": "code",
      "execution_count": null,
      "metadata": {
        "id": "86svnkZ-qpHh"
      },
      "outputs": [],
      "source": [
        "data_dir = 'hymenoptera_data'\n",
        "#Create a dictionary that contains the information of the images in both the training and validation set\n",
        "image_datasets = {x: datasets.ImageFolder(os.path.join(data_dir, x),data_transforms[x]) for x in ['train', 'val']}\n",
        "#Create a dictionary that contians the data loader\n",
        "dataloaders = {x: torch.utils.data.DataLoader(image_datasets[x],\n",
        "                                              batch_size=4,\n",
        "                                              shuffle=True) for x in ['train', 'val']}\n",
        "\n",
        "#Create a dictionary that contains the size of each dataset (training and validation)\n",
        "dataset_sizes = {x: len(image_datasets[x]) for x in ['train', 'val']}\n",
        "#Get the class names\n",
        "class_names = image_datasets['train'].classes\n",
        "#Print out the results\n",
        "print(\"Class Names: {}\".format(class_names))\n",
        "print(\"There are {} batches in the training set\".format(len(dataloaders['train'])))\n",
        "print(\"There are {} batches in the test set\".format(len(dataloaders['val'])))\n",
        "print(\"There are {} training images\".format(dataset_sizes['train']))\n",
        "print(\"There are {} testing images\".format(dataset_sizes['val']))"
      ]
    },
    {
      "cell_type": "code",
      "execution_count": null,
      "metadata": {
        "id": "kJXEjdxZqpHh"
      },
      "outputs": [],
      "source": [
        "#Load the ResNet\n",
        "model_conv = torchvision.models.resnet18(pretrained=True)"
      ]
    },
    {
      "cell_type": "code",
      "execution_count": null,
      "metadata": {
        "id": "gCHBGvgEqpHh"
      },
      "outputs": [],
      "source": [
        "#Freeze all layers in the network\n",
        "for param in model_conv.parameters():\n",
        "    param.requires_grad = False"
      ]
    },
    {
      "cell_type": "code",
      "execution_count": null,
      "metadata": {
        "id": "Teu_oooOqpHh"
      },
      "outputs": [],
      "source": [
        "#Get the number of inputs of the last layer (or number of neurons in the layer preceeding the last layer)\n",
        "num_ftrs = model_conv.fc.in_features\n",
        "#Reconstruct the last layer (output layer) to have only two classes\n",
        "model_conv.fc = nn.Linear(num_ftrs, 2)"
      ]
    },
    {
      "cell_type": "code",
      "execution_count": null,
      "metadata": {
        "id": "UW2GVhdmqpHi"
      },
      "outputs": [],
      "source": [
        "if torch.cuda.is_available():\n",
        "    model_conv = model_conv.cuda()"
      ]
    },
    {
      "cell_type": "code",
      "execution_count": null,
      "metadata": {
        "id": "Ex8vmZqSqpHi"
      },
      "outputs": [],
      "source": [
        "#Understand what's happening\n",
        "iteration = 0\n",
        "correct = 0\n",
        "for inputs,labels in dataloaders['train']:\n",
        "    if iteration==1:\n",
        "        break\n",
        "    inputs = Variable(inputs)\n",
        "    labels = Variable(labels)\n",
        "    if torch.cuda.is_available():\n",
        "        inputs = inputs.cuda()\n",
        "        labels = labels.cuda()\n",
        "    print(\"For one iteration, this is what happens:\")\n",
        "    print(\"Input Shape:\",inputs.shape)\n",
        "    print(\"Labels Shape:\",labels.shape)\n",
        "    print(\"Labels are: {}\".format(labels))\n",
        "    output = model_conv(inputs)\n",
        "    print(\"Output Tensor:\", output)\n",
        "    print(\"Outputs Shape\",output.shape)\n",
        "    _, predicted = torch.max(output, 1)\n",
        "    print(\"Predicted:\", predicted)\n",
        "    print(\"Predicted Shape\",predicted.shape)\n",
        "    correct += (predicted == labels).sum()\n",
        "    print(\"Correct Predictions:\",correct)\n",
        "\n",
        "    iteration += 1"
      ]
    },
    {
      "cell_type": "code",
      "execution_count": null,
      "metadata": {
        "id": "14AMytmIqpHi"
      },
      "outputs": [],
      "source": [
        "criterion = nn.CrossEntropyLoss()\n",
        "optimizer = optim.SGD(model_conv.fc.parameters(), lr=0.001, momentum=0.9)\n",
        "#Try experimenting with: optim.Adam(model_conv.fc.parameters(), lr=0.001)\n",
        "#Decay LR by a factor of 0.1 every 7 epochs\n",
        "exp_lr_scheduler = lr_scheduler.StepLR(optimizer, step_size=7, gamma=0.1)"
      ]
    },
    {
      "cell_type": "code",
      "execution_count": null,
      "metadata": {
        "id": "QgNJJZw6qpHi"
      },
      "outputs": [],
      "source": [
        "#This is to demonstrate what happens in the background of scheduler.step()\n",
        "#No need to run this cell unless you want to create your own scheduler\n",
        "def lr_scheduler(optimizer, epoch, init_lr=0.001, lr_decay_epoch=7):\n",
        "    \"\"\"Decay learning rate by a factor of 0.1 every lr_decay_epoch epochs.\"\"\"\n",
        "    lr = init_lr * (0.1**(epoch // lr_decay_epoch))\n",
        "\n",
        "    if epoch % lr_decay_epoch == 0:\n",
        "        print('LR is set to {}'.format(lr))\n",
        "\n",
        "    for param_group in optimizer.param_groups:\n",
        "        param_group['lr'] = lr\n",
        "\n",
        "    return optimizer"
      ]
    },
    {
      "cell_type": "code",
      "execution_count": null,
      "metadata": {
        "id": "k5ZveacXqpHi"
      },
      "outputs": [],
      "source": [
        "num_epochs = 25\n",
        "for epoch in range (num_epochs):\n",
        "    exp_lr_scheduler.step()\n",
        "    #Reset the correct to 0 after passing through all the dataset\n",
        "    correct = 0\n",
        "    for images,labels in dataloaders['train']:\n",
        "        images = Variable(images)\n",
        "        labels = Variable(labels)\n",
        "        if torch.cuda.is_available():\n",
        "            images = images.cuda()\n",
        "            labels = labels.cuda()\n",
        "\n",
        "        optimizer.zero_grad()\n",
        "        outputs = model_conv(images)\n",
        "        loss = criterion(outputs, labels)\n",
        "        loss.backward()\n",
        "        optimizer.step()\n",
        "        _, predicted = torch.max(outputs, 1)\n",
        "        correct += (predicted == labels).sum()\n",
        "\n",
        "    train_acc = 100 * correct / dataset_sizes['train']\n",
        "    print ('Epoch [{}/{}], Loss: {:.4f}, Train Accuracy: {}%'\n",
        "            .format(epoch+1, num_epochs, loss.item(), train_acc))"
      ]
    },
    {
      "cell_type": "code",
      "execution_count": null,
      "metadata": {
        "id": "Fm3o9BWyqpHi"
      },
      "outputs": [],
      "source": [
        "# Test the model\n",
        "model_conv.eval()\n",
        "with torch.no_grad():\n",
        "    correct = 0\n",
        "    total = 0\n",
        "    for (images, labels) in dataloaders['val']:\n",
        "        images = Variable(images)\n",
        "        labels = Variable(labels)\n",
        "        if torch.cuda.is_available():\n",
        "            images = images.cuda()\n",
        "            labels = labels.cuda()\n",
        "\n",
        "        outputs = model_conv(images)\n",
        "        _, predicted = torch.max(outputs.data, 1)\n",
        "        total += labels.size(0)\n",
        "        correct += (predicted == labels).sum().item()\n",
        "\n",
        "    print('Test Accuracy: {:.3f} %'.format(100 * correct / total))"
      ]
    },
    {
      "cell_type": "code",
      "execution_count": null,
      "metadata": {
        "id": "TUzej9qeqpHi"
      },
      "outputs": [],
      "source": [
        "#Visualize some predictions\n",
        "import matplotlib.pyplot as plt\n",
        "fig = plt.figure()\n",
        "shown_batch = 0\n",
        "index = 0\n",
        "with torch.no_grad():\n",
        "    for (images, labels) in dataloaders['val']:\n",
        "        if shown_batch == 1:\n",
        "            break\n",
        "        shown_batch += 1\n",
        "        images = Variable(images)\n",
        "        labels = Variable(labels)\n",
        "        if torch.cuda.is_available():\n",
        "            images = images.cuda()\n",
        "            labels = labels.cuda()\n",
        "\n",
        "        outputs = model_conv(images)                            #The output is of shape (4,2)\n",
        "        _, preds = torch.max(outputs, 1)                        #The pred is of shape (4) --> [ 0,  0,  0,  1]\n",
        "\n",
        "        for i in range(4):\n",
        "            index += 1\n",
        "            ax = plt.subplot(2,2,index)\n",
        "            ax.axis('off')\n",
        "            ax.set_title('Predicted Label: {}'.format(class_names[preds[i]]))\n",
        "            input_img = images.cpu().data[i]                    #Get the tensor of the image, and put it to cpu\n",
        "            inp = input_img.numpy().transpose((1, 2, 0))        #If we have a tensor of shape (2,3,4) --> it becomes (3,4,2)\n",
        "            mean = np.array([0.485, 0.456, 0.406])\n",
        "            std = np.array([0.229, 0.224, 0.225])\n",
        "            inp = std * inp + mean\n",
        "            inp = np.clip(inp, 0, 1)\n",
        "            plt.imshow(inp)"
      ]
    }
  ],
  "metadata": {
    "kernelspec": {
      "display_name": "Python 3",
      "language": "python",
      "name": "python3"
    },
    "language_info": {
      "codemirror_mode": {
        "name": "ipython",
        "version": 3
      },
      "file_extension": ".py",
      "mimetype": "text/x-python",
      "name": "python",
      "nbconvert_exporter": "python",
      "pygments_lexer": "ipython3",
      "version": "3.6.5"
    },
    "colab": {
      "provenance": []
    }
  },
  "nbformat": 4,
  "nbformat_minor": 0
}