{
  "cells": [
    {
      "cell_type": "code",
      "execution_count": 3,
      "metadata": {
        "id": "ho-lKaA0CkJP"
      },
      "outputs": [],
      "source": [
        "import torch\n",
        "import torch.nn as nn\n",
        "import torchvision.transforms as transforms\n",
        "import torchvision.datasets as datasets\n",
        "# from torch.autograd import Variable"
      ]
    },
    {
      "cell_type": "code",
      "execution_count": 4,
      "metadata": {
        "id": "THzWE71eCkJQ",
        "outputId": "872da770-ba7c-4036-c3ca-d2cd36347dc3",
        "colab": {
          "base_uri": "https://localhost:8080/"
        }
      },
      "outputs": [
        {
          "output_type": "stream",
          "name": "stdout",
          "text": [
            "Downloading http://yann.lecun.com/exdb/mnist/train-images-idx3-ubyte.gz\n",
            "Failed to download (trying next):\n",
            "<urlopen error [SSL: CERTIFICATE_VERIFY_FAILED] certificate verify failed: certificate has expired (_ssl.c:1007)>\n",
            "\n",
            "Downloading https://ossci-datasets.s3.amazonaws.com/mnist/train-images-idx3-ubyte.gz\n",
            "Downloading https://ossci-datasets.s3.amazonaws.com/mnist/train-images-idx3-ubyte.gz to ./data/MNIST/raw/train-images-idx3-ubyte.gz\n"
          ]
        },
        {
          "output_type": "stream",
          "name": "stderr",
          "text": [
            "100%|██████████| 9.91M/9.91M [00:00<00:00, 17.7MB/s]\n"
          ]
        },
        {
          "output_type": "stream",
          "name": "stdout",
          "text": [
            "Extracting ./data/MNIST/raw/train-images-idx3-ubyte.gz to ./data/MNIST/raw\n",
            "\n",
            "Downloading http://yann.lecun.com/exdb/mnist/train-labels-idx1-ubyte.gz\n",
            "Failed to download (trying next):\n",
            "<urlopen error [SSL: CERTIFICATE_VERIFY_FAILED] certificate verify failed: certificate has expired (_ssl.c:1007)>\n",
            "\n",
            "Downloading https://ossci-datasets.s3.amazonaws.com/mnist/train-labels-idx1-ubyte.gz\n",
            "Downloading https://ossci-datasets.s3.amazonaws.com/mnist/train-labels-idx1-ubyte.gz to ./data/MNIST/raw/train-labels-idx1-ubyte.gz\n"
          ]
        },
        {
          "output_type": "stream",
          "name": "stderr",
          "text": [
            "100%|██████████| 28.9k/28.9k [00:00<00:00, 488kB/s]\n"
          ]
        },
        {
          "output_type": "stream",
          "name": "stdout",
          "text": [
            "Extracting ./data/MNIST/raw/train-labels-idx1-ubyte.gz to ./data/MNIST/raw\n",
            "\n",
            "Downloading http://yann.lecun.com/exdb/mnist/t10k-images-idx3-ubyte.gz\n",
            "Failed to download (trying next):\n",
            "<urlopen error [SSL: CERTIFICATE_VERIFY_FAILED] certificate verify failed: certificate has expired (_ssl.c:1007)>\n",
            "\n",
            "Downloading https://ossci-datasets.s3.amazonaws.com/mnist/t10k-images-idx3-ubyte.gz\n",
            "Downloading https://ossci-datasets.s3.amazonaws.com/mnist/t10k-images-idx3-ubyte.gz to ./data/MNIST/raw/t10k-images-idx3-ubyte.gz\n"
          ]
        },
        {
          "output_type": "stream",
          "name": "stderr",
          "text": [
            "100%|██████████| 1.65M/1.65M [00:00<00:00, 4.41MB/s]\n"
          ]
        },
        {
          "output_type": "stream",
          "name": "stdout",
          "text": [
            "Extracting ./data/MNIST/raw/t10k-images-idx3-ubyte.gz to ./data/MNIST/raw\n",
            "\n",
            "Downloading http://yann.lecun.com/exdb/mnist/t10k-labels-idx1-ubyte.gz\n",
            "Failed to download (trying next):\n",
            "<urlopen error [SSL: CERTIFICATE_VERIFY_FAILED] certificate verify failed: certificate has expired (_ssl.c:1007)>\n",
            "\n",
            "Downloading https://ossci-datasets.s3.amazonaws.com/mnist/t10k-labels-idx1-ubyte.gz\n",
            "Downloading https://ossci-datasets.s3.amazonaws.com/mnist/t10k-labels-idx1-ubyte.gz to ./data/MNIST/raw/t10k-labels-idx1-ubyte.gz\n"
          ]
        },
        {
          "output_type": "stream",
          "name": "stderr",
          "text": [
            "100%|██████████| 4.54k/4.54k [00:00<00:00, 3.42MB/s]"
          ]
        },
        {
          "output_type": "stream",
          "name": "stdout",
          "text": [
            "Extracting ./data/MNIST/raw/t10k-labels-idx1-ubyte.gz to ./data/MNIST/raw\n",
            "\n"
          ]
        },
        {
          "output_type": "stream",
          "name": "stderr",
          "text": [
            "\n"
          ]
        }
      ],
      "source": [
        "# Specify the Mean and standard deviation of all the pixels in the MNIST dataset. They are precomputed  指定MNIST数据集中所有像素的均值和标准差。它们是预先计算好的\n",
        "mean_gray = 0.1307\n",
        "stddev_gray = 0.3081\n",
        "\n",
        "#Transform the images to tensors 将图像转换为张量\n",
        "#Normalize a tensor image with mean and standard deviation. Given mean: (M1,...,Mn) and std: (S1,..,Sn)  使用均值和标准差对张量图像进行归一化。给定均值: (M1,...,Mn) 和标准差: (S1,..,Sn)\n",
        "#for n channels, this transform will normalize each channel of the input torch.Tensor 对于n个通道，此变换将归一化输入torch.Tensor的每个通道\n",
        "#i.e. input[channel] = (input[channel] - mean[channel]) / std[channel]\n",
        "\n",
        "transforms = transforms.Compose([transforms.ToTensor(),\n",
        "                                transforms.Normalize((mean_gray,), (stddev_gray,))])\n",
        "\n",
        "#Load our dataset\n",
        "train_dataset = datasets.MNIST(root = './data',\n",
        "                            train = True,\n",
        "                            transform = transforms,\n",
        "                            download = True)\n",
        "\n",
        "test_dataset = datasets.MNIST(root = './data',\n",
        "                            train = False,\n",
        "                            transform = transforms,\n",
        "                              download = True)"
      ]
    },
    {
      "cell_type": "markdown",
      "source": [
        "### 代码逐行解释：\n",
        "1. `mean_gray = 0.1307`：指定MNIST数据集中所有像素的均值，值为0.1307。\n",
        "2. `stddev_gray = 0.3081`：指定MNIST数据集中所有像素的标准差，值为0.3081。\n",
        "3. `transforms.Compose([transforms.ToTensor(), transforms.Normalize((mean_gray,), (stddev_gray,))])`：\n",
        "   - `transforms.Compose`：将多个变换组合在一起。\n",
        "   - `transforms.ToTensor()`：将图像转换为PyTorch张量。\n",
        "   - `transforms.Normalize((mean_gray,), (stddev_gray,))`：使用指定的均值和标准差对图像进行归一化处理。\n"
      ],
      "metadata": {
        "id": "D-PBa18jI0oD"
      }
    },
    {
      "cell_type": "code",
      "execution_count": 5,
      "metadata": {
        "id": "l9e61zR3CkJQ",
        "outputId": "ec8e692f-41fc-43a4-de1f-786f3f3ee37f",
        "colab": {
          "base_uri": "https://localhost:8080/",
          "height": 447
        }
      },
      "outputs": [
        {
          "output_type": "execute_result",
          "data": {
            "text/plain": [
              "<matplotlib.image.AxesImage at 0x7e5e4ace2590>"
            ]
          },
          "metadata": {},
          "execution_count": 5
        },
        {
          "output_type": "display_data",
          "data": {
            "text/plain": [
              "<Figure size 640x480 with 1 Axes>"
            ],
            "image/png": "[encoded data removed]"
          },
          "metadata": {}
        }
      ],
      "source": [
        "import matplotlib.pyplot as plt\n",
        "random_image = train_dataset[20][0].numpy() * stddev_gray + mean_gray #[20][0] - 这里0 =  image, 1 = label\n",
        "plt.imshow(random_image.reshape(28, 28), cmap='gray')\n",
        "# plt.title('Random Image from MNIST Dataset')\n",
        "# plt.xlabel('Pixel X')\n",
        "# plt.ylabel('Pixel Y')\n",
        "# plt.show()"
      ]
    },
    {
      "cell_type": "markdown",
      "source": [
        "```python\n",
        "import matplotlib.pyplot as plt\n",
        "\n",
        "# 从训练数据集中获取第20个样本的图像，并进行反归一化处理\n",
        "random_image = train_dataset[20][0].numpy() * stddev_gray + mean_gray\n",
        "\n",
        "# 显示图像，使用灰度颜色映射\n",
        "plt.imshow(random_image.reshape(28, 28), cmap='gray')\n",
        "```\n",
        "\n",
        "### 代码逐行解释：\n",
        "1. `import matplotlib.pyplot as plt`：导入`matplotlib.pyplot`模块，用于绘制图像。\n",
        "2. `random_image = train_dataset[20][0].numpy() * stddev_gray + mean_gray`：\n",
        "   - 从`train_dataset`中获取第20个样本的图像（假设`train_dataset`是一个包含图像数据的PyTorch数据集）。\n",
        "   - `[20][0]`：获取第20个样本的图像数据（假设图像数据在第一个位置）。\n",
        "   - `.numpy()`：将PyTorch张量转换为NumPy数组。\n",
        "   - `* stddev_gray + mean_gray`：对图像进行反归一化处理，以恢复原始像素值。\n",
        "3. `plt.imshow(random_image.reshape(28, 28), cmap='gray')`：\n",
        "   - `random_image.reshape(28, 28)`：将图像数据重新调整为28x28的形状。\n",
        "   - `plt.imshow(..., cmap='gray')`：使用灰度颜色映射显示图像。\n"
      ],
      "metadata": {
        "id": "Qxp28zBWLNL0"
      }
    },
    {
      "cell_type": "code",
      "execution_count": 6,
      "metadata": {
        "id": "8OWki77-CkJQ",
        "outputId": "ae210870-6bec-4ad7-ae7f-3da008f0c81f",
        "colab": {
          "base_uri": "https://localhost:8080/"
        }
      },
      "outputs": [
        {
          "output_type": "stream",
          "name": "stdout",
          "text": [
            "4\n"
          ]
        }
      ],
      "source": [
        "print(train_dataset[20][1])   #Print the corresponding label for the image"
      ]
    },
    {
      "cell_type": "code",
      "execution_count": 7,
      "metadata": {
        "id": "_RGZveWxCkJR"
      },
      "outputs": [],
      "source": [
        "#Make the dataset iterable\n",
        "batch_size = 100\n",
        "\n",
        "train_load = torch.utils.data.DataLoader(dataset = train_dataset,\n",
        "                                         batch_size = batch_size,\n",
        "                                         shuffle = True)\n",
        "\n",
        "test_load = torch.utils.data.DataLoader(dataset = test_dataset,\n",
        "                                         batch_size = batch_size,\n",
        "                                         shuffle = False)"
      ]
    },
    {
      "cell_type": "markdown",
      "source": [
        "### 代码逐行解释：\n",
        "1. `batch_size = 100`：设置每个批次的大小为100。\n",
        "2. `train_load = torch.utils.data.DataLoader(dataset=train_dataset, batch_size=batch_size, shuffle=True)`：\n",
        "   - `torch.utils.data.DataLoader`：创建一个数据加载器，使数据集可迭代。\n",
        "   - `dataset=train_dataset`：指定要加载的训练数据集。\n",
        "   - `batch_size=batch_size`：指定每个批次的大小。\n",
        "   - `shuffle=True`：在每个epoch开始时打乱数据集。\n",
        "3. `test_load = torch.utils.data.DataLoader(dataset=test_dataset, batch_size=batch_size, shuffle=False)`：\n",
        "   - `torch.utils.data.DataLoader`：创建一个数据加载器，使数据集可迭代。\n",
        "   - `dataset=test_dataset`：指定要加载的测试数据集。\n",
        "   - `batch_size=batch_size`：指定每个批次的大小。\n",
        "   - `shuffle=False`：不打乱测试数据集。"
      ],
      "metadata": {
        "id": "wHvZH5y5OcTy"
      }
    },
    {
      "cell_type": "markdown",
      "source": [
        "创建数据加载器的目的是为了更高效和方便地处理数据集，特别是在训练和测试深度学习模型时。以下是使用数据加载器而不是直接使用数据集的一些主要原因：\n",
        "\n",
        "### 1. 批量处理（Batch Processing）\n",
        "数据加载器允许我们将数据集分成多个小批次（batch），每个批次包含一定数量的样本。批量处理有以下几个优点：\n",
        "- **内存效率**：一次只加载一个批次的数据，而不是整个数据集，这样可以节省内存。\n",
        "- **加速训练**：批量处理可以利用矩阵运算的优势，加速模型的训练过程。\n",
        "\n",
        "### 2. 数据打乱（Shuffling）\n",
        "在训练过程中，数据加载器可以在每个epoch开始时打乱数据集。这有助于：\n",
        "- **防止过拟合**：打乱数据可以防止模型记住数据的顺序，从而提高模型的泛化能力。\n",
        "- **提高训练效果**：打乱数据可以使模型在训练过程中更好地学习数据的分布。\n",
        "\n",
        "### 3. 多线程数据加载（Multi-threaded Data Loading）\n",
        "数据加载器可以使用多线程或多进程来并行加载数据，从而提高数据加载的效率。这对于大型数据集尤其重要，因为数据加载可能成为训练过程中的瓶颈。\n",
        "\n",
        "### 4. 数据预处理（Data Preprocessing）\n",
        "数据加载器可以在加载数据的同时进行数据预处理，例如数据增强、归一化等。这使得数据预处理过程更加高效和方便。\n",
        "\n",
        "### 代码示例：\n",
        "以下是一个简单的示例，展示了如何使用数据加载器进行批量处理和数据打乱：\n",
        "\n",
        "```python\n",
        "import torch\n",
        "from torch.utils.data import DataLoader, TensorDataset\n",
        "\n",
        "# 创建一个简单的数据集\n",
        "data = torch.randn(1000, 3)  # 1000个样本，每个样本有3个特征\n",
        "labels = torch.randint(0, 2, (1000,))  # 1000个标签，二分类\n",
        "\n",
        "# 将数据和标签打包成一个数据集\n",
        "dataset = TensorDataset(data, labels)\n",
        "\n",
        "# 创建数据加载器\n",
        "batch_size = 100\n",
        "data_loader = DataLoader(dataset, batch_size=batch_size, shuffle=True)\n",
        "\n",
        "# 迭代数据加载器\n",
        "for batch_data, batch_labels in data_loader:\n",
        "    # 在这里进行训练或测试\n",
        "    print(batch_data.shape, batch_labels.shape)\n",
        "```\n",
        "\n",
        "在这个示例中，数据加载器将数据集分成了多个批次，每个批次包含100个样本，并在每个epoch开始时打乱数据集。\n",
        "\n",
        "### 总结：\n",
        "使用数据加载器而不是直接使用数据集，可以提高数据处理的效率和灵活性，特别是在处理大型数据集和进行深度学习训练时。数据加载器提供了批量处理、数据打乱、多线程数据加载和数据预处理等功能，使得数据处理过程更加高效和方便。"
      ],
      "metadata": {
        "id": "sR8e_ViSOx5p"
      }
    },
    {
      "cell_type": "code",
      "execution_count": 8,
      "metadata": {
        "id": "-WhezoDFCkJR",
        "outputId": "2fbd0881-0916-45a9-c55b-2cad38473c8c",
        "colab": {
          "base_uri": "https://localhost:8080/"
        }
      },
      "outputs": [
        {
          "output_type": "stream",
          "name": "stdout",
          "text": [
            "There are 60000 images in the training set\n",
            "There are 10000 images in the test set\n",
            "There are 600 batches in the train loader\n",
            "There are 100 batches in the testloader\n"
          ]
        }
      ],
      "source": [
        "print('There are {} images in the training set'.format(len(train_dataset)))\n",
        "print('There are {} images in the test set'.format(len(test_dataset)))\n",
        "print('There are {} batches in the train loader'.format(len(train_load)))\n",
        "print('There are {} batches in the testloader'.format(len(test_load)))"
      ]
    },
    {
      "cell_type": "markdown",
      "metadata": {
        "id": "A-gmilFyCkJR"
      },
      "source": [
        "![cnn mnist](https://user-images.githubusercontent.com/30661597/61713471-3c957d00-ad8b-11e9-9a38-e3f4d1e72565.png)"
      ]
    },
    {
      "cell_type": "code",
      "execution_count": 9,
      "metadata": {
        "id": "zaa0zu-iCkJS"
      },
      "outputs": [],
      "source": [
        "#Create the model class\n",
        "class CNN(nn.Module):\n",
        "    def __init__(self):\n",
        "        super(CNN,self).__init__()\n",
        "        #Same Padding = [(filter size - 1) / 2] (Same Padding--> input size = output size)\n",
        "        self.cnn1 = nn.Conv2d(in_channels=1, out_channels=8, kernel_size=3,stride=1, padding=1) #in_channels=1 是因为灰度图一个通道, 如果是RGB, 就得写3\n",
        "        #The output size of each of the 8 feature maps is\n",
        "        #[(input_size - filter_size + 2(padding) / stride) +1] --> [(28-3+2(1)/1)+1] = 28 (padding type is same) - input size =28 (as 28*28 image)\n",
        "        #Batch normalization\n",
        "        self.batchnorm1 = nn.BatchNorm2d(8)\n",
        "        #RELU\n",
        "        self.relu = nn.ReLU()\n",
        "        self.maxpool = nn.MaxPool2d(kernel_size=2)\n",
        "        #After max pooling, the output of each feature map is now 28/2 = 14 also is next input size\n",
        "        # same padding = (5-1)/2 = 2\n",
        "        self.cnn2 = nn.Conv2d(in_channels=8, out_channels=32, kernel_size=5, stride=1, padding=2)\n",
        "        #Output size of each of the 32 feature maps remains 14 [(14-5+2*2)/1+1]\n",
        "        self.batchnorm2 = nn.BatchNorm2d(32)\n",
        "        #After max pooling, the output of each feature map is 14/2 = 7\n",
        "        #Flatten the feature maps. You have 32 feature maps, each of them is of size 7x7 --> 32*7*7 = 1568\n",
        "        self.fc1 = nn.Linear(in_features=1568, out_features=600)\n",
        "        self.droput = nn.Dropout(p=0.5)\n",
        "        self.fc2 = nn.Linear(in_features=600, out_features=10) # 因为我们有 10 个class,再次，我们预测 10 个不同的数字。因此类别的数量，或者输出神经元的数量,第二个全连接层的大小为 10。\n",
        "    def forward(self,x):\n",
        "        out = self.cnn1(x)\n",
        "        out = self.batchnorm1(out)\n",
        "        out = self.relu(out)\n",
        "        out = self.maxpool(out)\n",
        "        out = self.cnn2(out)\n",
        "        out = self.batchnorm2(out)\n",
        "        out = self.relu(out)\n",
        "        out = self.maxpool(out)\n",
        "        #Now we have to flatten the output. This is where we apply the feed forward neural network as learned before!\n",
        "        #It will take the shape (batch_size, 1568) = (100, 1568)\n",
        "        out = out.view(-1,1568) # -1 当你提供 -1 时，PyTorch, 将在这里计算出其余的值。\n",
        "        #Then we forward through our fully connected layer\n",
        "        out = self.fc1(out)\n",
        "        out = self.relu(out)\n",
        "        out = self.dropout(out)\n",
        "        out = self.fc2(out)\n",
        "        return out"
      ]
    },
    {
      "cell_type": "markdown",
      "source": [
        "### 代码逐行解释：\n",
        "1. `class CNN(nn.Module):`：定义一个继承自`nn.Module`的卷积神经网络类。\n",
        "2. `def __init__(self):`：初始化方法，定义网络的层。\n",
        "3. `super(CNN, self).__init__()`：调用父类的初始化方法。\n",
        "4. `self.cnn1 = nn.Conv2d(in_channels=1, out_channels=8, kernel_size=3, stride=1, padding=1)`：定义第一个卷积层，输入通道为1，输出通道为8，卷积核大小为3x3，步幅为1，填充为1。\n",
        "5. `self.batchnorm1 = nn.BatchNorm2d(8)`：定义第一个批量归一化层，输入通道为8。\n",
        "6. `self.relu = nn.ReLU()`：定义ReLU激活函数。\n",
        "7. `self.maxpool = nn.MaxPool2d(kernel_size=2)`：定义最大池化层，池化窗口大小为2x2。\n",
        "8. `self.cnn2 = nn.Conv2d(in_channels=8, out_channels=32, kernel_size=5, stride=1, padding=2)`：定义第二个卷积层，输入通道为8，输出通道为32，卷积核大小为5x5，步幅为1，填充为2。\n",
        "9. `self.batchnorm2 = nn.BatchNorm2d(32)`：定义第二个批量归一化层，输入通道为32。\n",
        "10. `self.fc1 = nn.Linear(in_features=1568, out_features=600)`：定义第一个全连接层，输入特征数为1568，输出特征数为600。\n",
        "11. `self.dropout = nn.Dropout(p=0.5)`：定义Dropout层，丢弃概率为0.5。\n",
        "12. `self.fc2 = nn.Linear(in_features=600, out_features=10)`：定义第二个全连接层，输入特征数为600，输出特征数为10。\n",
        "13. `def forward(self, x):`：定义前向传播方法。\n",
        "14. `out = self.cnn1(x)`：通过第一个卷积层。\n",
        "15. `out = self.batchnorm1(out)`：通过第一个批量归一化层。\n",
        "16. `out = self.relu(out)`：通过ReLU激活函数。\n",
        "17. `out = self.maxpool(out)`：通过最大池化层。\n",
        "18. `out = self.cnn2(out)`：通过第二个卷积层。\n",
        "19. `out = self.batchnorm2(out)`：通过第二个批量归一化层。\n",
        "20. `out = self.relu(out)`：通过ReLU激活函数。\n",
        "21. `out = self.maxpool(out)`：通过最大池化层。\n",
        "22. `out = out.view(-1, 1568)`：展平输出。\n",
        "23. `out = self.fc1(out)`：通过第一个全连接层。\n",
        "24. `out = self.relu(out)`：通过ReLU激活函数。\n",
        "25. `out = self.dropout(out)`：通过Dropout层。\n",
        "26. `out = self.fc2(out)`：通过第二个全连接层。\n",
        "27. `return out`：返回输出。"
      ],
      "metadata": {
        "id": "NkRNGmxibWvc"
      }
    },
    {
      "cell_type": "code",
      "source": [
        "torch.cuda.is_available()"
      ],
      "metadata": {
        "id": "YlgZEvEKgUmB",
        "outputId": "ef67bd6d-20cf-4bba-aa89-d600fc81f0b8",
        "colab": {
          "base_uri": "https://localhost:8080/"
        }
      },
      "execution_count": 16,
      "outputs": [
        {
          "output_type": "execute_result",
          "data": {
            "text/plain": [
              "False"
            ]
          },
          "metadata": {},
          "execution_count": 16
        }
      ]
    },
    {
      "cell_type": "code",
      "execution_count": 10,
      "metadata": {
        "id": "Pp0_qT0lCkJS"
      },
      "outputs": [],
      "source": [
        "model = CNN()\n",
        "CUDA = torch.cuda.is_available()\n",
        "if CUDA:\n",
        "    model = model.cuda()\n",
        "loss_fn = nn.CrossEntropyLoss()\n",
        "# Show weight decay\n",
        "optimizer = torch.optim.SGD(model.parameters(), lr = 0.01) #定义优化器，使用随机梯度下降（SGD）优化器，并设置学习率为0.01"
      ]
    },
    {
      "cell_type": "code",
      "execution_count": 11,
      "metadata": {
        "id": "IOQHzIpJCkJS",
        "outputId": "e28d6ab7-79ba-478a-ce49-deff56c335b8",
        "colab": {
          "base_uri": "https://localhost:8080/"
        }
      },
      "outputs": [
        {
          "output_type": "stream",
          "name": "stdout",
          "text": [
            "For one iteration, this is what happens:\n",
            "Input Shape: torch.Size([100, 1, 28, 28])\n",
            "Labels Shape: torch.Size([100])\n",
            "Outputs Shape torch.Size([100, 10])\n",
            "Predicted Shape torch.Size([100])\n",
            "Predicted Tensor:\n",
            "tensor([4, 4, 7, 8, 9, 9, 7, 7, 4, 5, 8, 4, 7, 7, 4, 4, 8, 1, 1, 8, 7, 7, 4, 9,\n",
            "        7, 4, 1, 0, 4, 1, 8, 4, 1, 5, 8, 8, 7, 8, 8, 5, 4, 4, 7, 7, 9, 7, 8, 7,\n",
            "        4, 7, 8, 8, 9, 7, 7, 7, 7, 8, 8, 7, 7, 7, 8, 1, 8, 7, 9, 8, 5, 7, 8, 9,\n",
            "        8, 4, 7, 9, 7, 5, 9, 9, 8, 6, 4, 8, 7, 7, 8, 5, 7, 7, 1, 4, 7, 7, 7, 7,\n",
            "        1, 7, 9, 8])\n"
          ]
        }
      ],
      "source": [
        "#Understand what's happening\n",
        "iteration = 0\n",
        "correct = 0\n",
        "\n",
        "for i,(inputs,labels) in enumerate (train_load): ## 遍历训练数据加载器中的每个批次\n",
        "\n",
        "    if CUDA:\n",
        "        inputs = inputs.cuda()\n",
        "        labels = labels.cuda()\n",
        "\n",
        "    print(\"For one iteration, this is what happens:\")\n",
        "    #Each tensor propagated through the network should be 4D (batch_size, channels, rows, cols)\n",
        "    print(\"Input Shape:\",inputs.shape)\n",
        "    print(\"Labels Shape:\",labels.shape)\n",
        "    output = model(inputs)\n",
        "    print(\"Outputs Shape\",output.shape)\n",
        "    _, predicted = torch.max(output, 1)\n",
        "    print(\"Predicted Shape\",predicted.shape)\n",
        "    print(\"Predicted Tensor:\")\n",
        "    print(predicted)\n",
        "    correct += (predicted == labels).sum()\n",
        "    break"
      ]
    },
    {
      "cell_type": "markdown",
      "source": [
        "下面是打印输出结果的解释，每个参数代表的含义如下：\n",
        "\n",
        "### 1. `Input Shape: torch.Size([100, 1, 28, 28])`\n",
        "- **Input Shape**：输入数据的形状。\n",
        "- **torch.Size([100, 1, 28, 28])**：\n",
        "  - `100`：批次大小（batch size），表示每个批次包含100个样本。\n",
        "  - `1`：输入通道数，对于MNIST数据集，图像是灰度图，所以通道数为1。\n",
        "  - `28`：图像的高度。\n",
        "  - `28`：图像的宽度。\n",
        "\n",
        "### 2. `Labels Shape: torch.Size([100])`\n",
        "- **Labels Shape**：标签数据的形状。\n",
        "- **torch.Size([100])**：\n",
        "  - `100`：批次大小（batch size），表示每个批次包含100个标签。\n",
        "\n",
        "### 3. `Outputs Shape torch.Size([100, 10])`\n",
        "- **Outputs Shape**：模型输出的形状。\n",
        "- **torch.Size([100, 10])**：\n",
        "  - `100`：批次大小（batch size），表示每个批次包含100个样本的输出。\n",
        "  - `10`：输出的特征数，对于MNIST数据集，有10个类别（数字0到9），所以输出特征数为10。\n",
        "\n",
        "### 4. `Predicted Shape torch.Size([100])`\n",
        "- **Predicted Shape**：预测结果的形状。\n",
        "- **torch.Size([100])**：\n",
        "  - `100`：批次大小（batch size），表示每个批次包含100个预测结果。\n",
        "\n",
        "### 5. `Predicted Tensor`\n",
        "- **Predicted Tensor**：预测结果的张量。\n",
        "- **tensor([...])**：包含100个预测结果，每个结果是一个类别索引（0到9）。\n",
        "\n",
        "### 具体解释：\n",
        "- **Input Shape**：表示输入到模型中的图像数据的形状，每个批次包含100张28x28的灰度图像。\n",
        "- **Labels Shape**：表示输入到模型中的标签数据的形状，每个批次包含100个标签。\n",
        "- **Outputs Shape**：表示模型输出的形状，每个批次包含100个样本的输出，每个输出有10个特征（对应10个类别的概率）。\n",
        "- **Predicted Shape**：表示模型预测结果的形状，每个批次包含100个预测结果。\n",
        "- **Predicted Tensor**：表示模型预测的类别索引，每个索引对应一个类别（0到9）。"
      ],
      "metadata": {
        "id": "IirQmT_Bigv2"
      }
    },
    {
      "cell_type": "code",
      "execution_count": 12,
      "metadata": {
        "id": "Vgie5J-TCkJT",
        "outputId": "b2c55b25-a579-4dc3-af2d-abdb7ece79a5",
        "colab": {
          "base_uri": "https://localhost:8080/"
        }
      },
      "outputs": [
        {
          "output_type": "stream",
          "name": "stdout",
          "text": [
            "Epoch 1/25, Training Loss: 0.486, Training Accuracy: 87.420, Testing Loss: 0.154, Testing Acc: 95.770\n",
            "Epoch 2/25, Training Loss: 0.163, Training Accuracy: 95.398, Testing Loss: 0.095, Testing Acc: 97.330\n",
            "Epoch 3/25, Training Loss: 0.118, Training Accuracy: 96.645, Testing Loss: 0.073, Testing Acc: 97.960\n",
            "Epoch 4/25, Training Loss: 0.094, Training Accuracy: 97.257, Testing Loss: 0.062, Testing Acc: 98.170\n",
            "Epoch 5/25, Training Loss: 0.080, Training Accuracy: 97.647, Testing Loss: 0.054, Testing Acc: 98.390\n",
            "Epoch 6/25, Training Loss: 0.071, Training Accuracy: 97.905, Testing Loss: 0.047, Testing Acc: 98.610\n",
            "Epoch 7/25, Training Loss: 0.064, Training Accuracy: 98.108, Testing Loss: 0.045, Testing Acc: 98.550\n",
            "Epoch 8/25, Training Loss: 0.058, Training Accuracy: 98.252, Testing Loss: 0.044, Testing Acc: 98.690\n",
            "Epoch 9/25, Training Loss: 0.055, Training Accuracy: 98.382, Testing Loss: 0.039, Testing Acc: 98.690\n",
            "Epoch 10/25, Training Loss: 0.051, Training Accuracy: 98.453, Testing Loss: 0.036, Testing Acc: 98.810\n",
            "Epoch 11/25, Training Loss: 0.048, Training Accuracy: 98.550, Testing Loss: 0.036, Testing Acc: 98.800\n",
            "Epoch 12/25, Training Loss: 0.045, Training Accuracy: 98.685, Testing Loss: 0.039, Testing Acc: 98.810\n",
            "Epoch 13/25, Training Loss: 0.042, Training Accuracy: 98.808, Testing Loss: 0.034, Testing Acc: 98.900\n",
            "Epoch 14/25, Training Loss: 0.040, Training Accuracy: 98.800, Testing Loss: 0.033, Testing Acc: 98.910\n",
            "Epoch 15/25, Training Loss: 0.038, Training Accuracy: 98.903, Testing Loss: 0.031, Testing Acc: 98.990\n",
            "Epoch 16/25, Training Loss: 0.037, Training Accuracy: 98.937, Testing Loss: 0.030, Testing Acc: 99.030\n",
            "Epoch 17/25, Training Loss: 0.035, Training Accuracy: 98.910, Testing Loss: 0.028, Testing Acc: 99.040\n",
            "Epoch 18/25, Training Loss: 0.033, Training Accuracy: 99.042, Testing Loss: 0.029, Testing Acc: 99.010\n",
            "Epoch 19/25, Training Loss: 0.032, Training Accuracy: 99.045, Testing Loss: 0.027, Testing Acc: 99.060\n",
            "Epoch 20/25, Training Loss: 0.030, Training Accuracy: 99.102, Testing Loss: 0.029, Testing Acc: 99.060\n",
            "Epoch 21/25, Training Loss: 0.029, Training Accuracy: 99.117, Testing Loss: 0.028, Testing Acc: 98.990\n",
            "Epoch 22/25, Training Loss: 0.029, Training Accuracy: 99.153, Testing Loss: 0.027, Testing Acc: 99.000\n",
            "Epoch 23/25, Training Loss: 0.027, Training Accuracy: 99.202, Testing Loss: 0.028, Testing Acc: 99.030\n",
            "Epoch 24/25, Training Loss: 0.026, Training Accuracy: 99.223, Testing Loss: 0.026, Testing Acc: 99.130\n",
            "Epoch 25/25, Training Loss: 0.026, Training Accuracy: 99.237, Testing Loss: 0.026, Testing Acc: 99.140\n"
          ]
        }
      ],
      "source": [
        "#Training the CNN\n",
        "num_epochs = 25\n",
        "\n",
        "#Define the lists to store the results of loss and accuracy\n",
        "train_loss = []\n",
        "test_loss = []\n",
        "train_accuracy = []\n",
        "test_accuracy = []\n",
        "\n",
        "#Training\n",
        "for epoch in range(num_epochs):\n",
        "    #Reset these below variables to 0 at the begining of every epoch\n",
        "    correct = 0\n",
        "    iterations = 0\n",
        "    iter_loss = 0.0\n",
        "\n",
        "    model.train()                   # Put the network into training mode 现在我们需要将模型设置为训练模式，因此 model.train。现在，我们之所以需要这样做，是因为我们使用了 dropouts和批量标准化。如果你回到课堂，在这里，\n",
        "    #你可以看到我们使用了 dropouts以及批量标准化。现在，记得我们在理论部分讨论过，这两者在训练和测试中的表现不同。举个例子，在 dropouts 中，当你使用 dropout 时，然后在测试的时候，你需要为了扩大激活范围，为了补偿训练。所以他们在训练和测试中的表现不同。\n",
        "    # 这就是为什么我们需要明确或者告诉 PyTorch 我们何时训练、何时测试。\n",
        "\n",
        "    for i, (inputs, labels) in enumerate(train_load):\n",
        "\n",
        "        if CUDA:\n",
        "            inputs = inputs.cuda()\n",
        "            labels = labels.cuda()\n",
        "\n",
        "        outputs = model(inputs)         #前向传播\n",
        "        loss = loss_fn(outputs, labels)   # 计算损失\n",
        "        iter_loss += loss.item()         # Accumulate the loss , due to here loss is a tensor. loss.item() 获取内容, 累计损失\n",
        "        optimizer.zero_grad()            # Clear off the gradient in (w = w - gradient) 清楚梯度\n",
        "        loss.backward()                 # Backpropagation 反向传播\n",
        "        optimizer.step()                # Update the weights 更新权重\n",
        "\n",
        "        # Record the correct predictions for training data\n",
        "        _, predicted = torch.max(outputs, 1)\n",
        "        correct += (predicted == labels).sum()\n",
        "        iterations += 1\n",
        "\n",
        "    # Record the training loss\n",
        "    train_loss.append(iter_loss/iterations)\n",
        "    # Record the training accuracy\n",
        "    train_accuracy.append((100 * correct / len(train_dataset)))\n",
        "\n",
        "    #Testing\n",
        "    testing_loss = 0.0\n",
        "    correct = 0\n",
        "    iterations = 0\n",
        "\n",
        "    model.eval()                    # Put the network into evaluation mode 将网络置于评估模式\n",
        "    # 现在，我们的训练已经结束。这意味着我们想告诉 PyTorch这是测试阶段,为了实现 dropout 批量标准化,以测试模式运行。所以我们需要做的就是model.eval()。\n",
        "\n",
        "    for i, (inputs, labels) in enumerate(test_load):\n",
        "\n",
        "        if CUDA:\n",
        "            inputs = inputs.cuda()\n",
        "            labels = labels.cuda()\n",
        "\n",
        "        outputs = model(inputs)\n",
        "        loss = loss_fn(outputs, labels) # Calculate the loss\n",
        "        testing_loss += loss.item()\n",
        "        # Record the correct predictions for training data\n",
        "        _, predicted = torch.max(outputs, 1)\n",
        "        correct += (predicted == labels).sum()\n",
        "\n",
        "        iterations += 1\n",
        "\n",
        "    # Record the Testing loss\n",
        "    test_loss.append(testing_loss/iterations)\n",
        "    # Record the Testing accuracy\n",
        "    test_accuracy.append((100 * correct / len(test_dataset)))\n",
        "\n",
        "    print ('Epoch {}/{}, Training Loss: {:.3f}, Training Accuracy: {:.3f}, Testing Loss: {:.3f}, Testing Acc: {:.3f}'\n",
        "           .format(epoch+1, num_epochs, train_loss[-1], train_accuracy[-1],\n",
        "             test_loss[-1], test_accuracy[-1])) #记住，每次我们完成一个时代，我们将该值附加到此列表中。所以我们要做的就是提取最后一个值"
      ]
    },
    {
      "cell_type": "markdown",
      "source": [
        "### 代码逐行解释：\n",
        "1. `num_epochs = 25`：设置训练的总轮数为25。\n",
        "2. `train_loss = []`，`test_loss = []`，`train_accuracy = []`，`test_accuracy = []`：定义列表来存储每个epoch的训练和测试损失及准确率。\n",
        "3. `for epoch in range(num_epochs):`：遍历每个epoch。\n",
        "4. `correct = 0`，`iterations = 0`，`iter_loss = 0.0`：在每个epoch开始时将这些变量重置为0。\n",
        "5. `model.train()`：将模型置于训练模式。\n",
        "6. `for i, (inputs, labels) in enumerate(train_load):`：遍历训练数据加载器中的每个批次。\n",
        "7. `if CUDA:`：如果有可用的CUDA设备，将输入和标签移动到GPU。\n",
        "8. `outputs = model(inputs)`：通过模型进行前向传播，获取输出。\n",
        "9. `loss = loss_fn(outputs, labels)`：计算损失。\n",
        "10. `iter_loss += loss.item()`：累积损失。\n",
        "11. `optimizer.zero_grad()`：清除梯度。\n",
        "12. `loss.backward()`：进行反向传播。\n",
        "13. `optimizer.step()`：更新权重。\n",
        "14. `_, predicted = torch.max(outputs, 1)`：获取预测结果。\n",
        "15. `correct += (predicted == labels).sum()`：记录正确预测的数量。\n",
        "16. `iterations += 1`：记录迭代次数。\n",
        "17. `train_loss.append(iter_loss / iterations)`：记录训练损失。\n",
        "18. `train_accuracy.append((100 * correct / len(train_dataset)))`：记录训练准确率。\n",
        "19. `testing_loss = 0.0`，`correct = 0`，`iterations = 0`：在测试开始时将这些变量重置为0。\n",
        "20. `model.eval()`：将模型置于评估模式。\n",
        "21. `for i, (inputs, labels) in enumerate(test_load):`：遍历测试数据加载器中的每个批次。\n",
        "22. `if CUDA:`：如果有可用的CUDA设备，将输入和标签移动到GPU。\n",
        "23. `outputs = model(inputs)`：通过模型进行前向传播，获取输出。\n",
        "24. `loss = loss_fn(outputs, labels)`：计算损失。\n",
        "25. `testing_loss += loss.item()`：累积测试损失。\n",
        "26. `_, predicted = torch.max(outputs, 1)`：获取预测结果。\n",
        "27. `correct += (predicted == labels).sum()`：记录正确预测的数量。\n",
        "28. `iterations += 1`：记录迭代次数。\n",
        "29. `test_loss.append(testing_loss / iterations)`：记录测试损失。\n",
        "30. `test_accuracy.append((100 * correct / len(test_dataset)))`：记录测试准确率。\n",
        "31. `print('Epoch {}/{}, Training Loss: {:.3f}, Training Accuracy: {:.3f}, Testing Loss: {:.3f}, Testing Accuracy: {:.3f}' .format(epoch + 1, num_epochs, train_loss[-1], train_accuracy[-1], test_loss[-1], test_accuracy[-1]))`：打印每个epoch的训练和测试损失及准确率。\n"
      ],
      "metadata": {
        "id": "bWIZrDCNn4y_"
      }
    },
    {
      "cell_type": "code",
      "execution_count": 13,
      "metadata": {
        "id": "ItEdAlvACkJT",
        "outputId": "6f4997dd-64bc-4d79-ae0f-89bc42429bbd",
        "colab": {
          "base_uri": "https://localhost:8080/",
          "height": 830
        }
      },
      "outputs": [
        {
          "output_type": "display_data",
          "data": {
            "text/plain": [
              "<Figure size 1000x1000 with 1 Axes>"
            ],
            "image/png": "[encoded data removed]"
          },
          "metadata": {}
        }
      ],
      "source": [
        "# Loss\n",
        "f = plt.figure(figsize=(10, 10))\n",
        "plt.plot(train_loss, label='Training Loss')\n",
        "plt.plot(test_loss, label='Testing Loss')\n",
        "plt.legend()\n",
        "plt.show()"
      ]
    },
    {
      "cell_type": "code",
      "execution_count": 14,
      "metadata": {
        "id": "UFLN7XPPCkJT",
        "outputId": "9cc9c826-ebe7-4212-d4d5-8c281006d69b",
        "colab": {
          "base_uri": "https://localhost:8080/",
          "height": 830
        }
      },
      "outputs": [
        {
          "output_type": "display_data",
          "data": {
            "text/plain": [
              "<Figure size 1000x1000 with 1 Axes>"
            ],
            "image/png": "[encoded data removed]"
          },
          "metadata": {}
        }
      ],
      "source": [
        "# Accuracy\n",
        "f = plt.figure(figsize=(10, 10))\n",
        "plt.plot(train_accuracy, label='Training Accuracy')\n",
        "plt.plot(test_accuracy, label='Testing Accuracy')\n",
        "plt.legend()\n",
        "plt.show()"
      ]
    },
    {
      "cell_type": "code",
      "execution_count": 15,
      "metadata": {
        "id": "pGQYSQKECkJT",
        "outputId": "c39722ac-f62a-4dba-ef28-21e3dc311602",
        "colab": {
          "base_uri": "https://localhost:8080/"
        }
      },
      "outputs": [
        {
          "output_type": "stream",
          "name": "stdout",
          "text": [
            "Prediction is: 3\n",
            "Actual is: 3\n"
          ]
        }
      ],
      "source": [
        "img = test_dataset[30][0].resize_((1, 1, 28, 28))   #(batch_size,channels,height,width)\n",
        "label = test_dataset[30][1]\n",
        "\n",
        "model.eval()\n",
        "\n",
        "if CUDA:\n",
        "    model = model.cuda()\n",
        "    img = img.cuda()\n",
        "\n",
        "output = model(img)\n",
        "_, predicted = torch.max(output,1)\n",
        "print(\"Prediction is: {}\".format(predicted.item()))\n",
        "print(\"Actual is: {}\".format(label))"
      ]
    },
    {
      "cell_type": "code",
      "execution_count": 15,
      "metadata": {
        "id": "Rh9BR7KcCkJT"
      },
      "outputs": [],
      "source": []
    }
  ],
  "metadata": {
    "kernelspec": {
      "display_name": "Python 3",
      "name": "python3"
    },
    "language_info": {
      "codemirror_mode": {
        "name": "ipython",
        "version": 3
      },
      "file_extension": ".py",
      "mimetype": "text/x-python",
      "name": "python",
      "nbconvert_exporter": "python",
      "pygments_lexer": "ipython3",
      "version": "3.6.5"
    },
    "colab": {
      "provenance": [],
      "gpuType": "T4"
    },
    "accelerator": "GPU"
  },
  "nbformat": 4,
  "nbformat_minor": 0
}